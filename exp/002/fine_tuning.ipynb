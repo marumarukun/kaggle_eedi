{
 "cells": [
  {
   "cell_type": "code",
   "execution_count": 1,
   "metadata": {},
   "outputs": [
    {
     "name": "stderr",
     "output_type": "stream",
     "text": [
      "/home/marumarukun/pj/compe/kaggle_eedi/.venv/lib/python3.12/site-packages/tqdm/auto.py:21: TqdmWarning: IProgress not found. Please update jupyter and ipywidgets. See https://ipywidgets.readthedocs.io/en/stable/user_install.html\n",
      "  from .autonotebook import tqdm as notebook_tqdm\n"
     ]
    },
    {
     "name": "stdout",
     "output_type": "stream",
     "text": [
      "exp_number: '002'\n",
      "run_time: base\n",
      "data:\n",
      "  input_root: ../../data/input\n",
      "  train_path: ../../data/input/train.csv\n",
      "  test_path: ../../data/input/test.csv\n",
      "  sample_submission_path: ../../data/input/sample_submission.csv\n",
      "  mapping_path: ../../data/input/misconception_mapping.csv\n",
      "  mapping_meta_path: ../../data/input/mapping_meta.parquet\n",
      "  output_root: ../../data/output\n",
      "  results_root: ../../results\n",
      "  results_path: ../../results/002/base\n",
      "seed: 42\n",
      "k: 25\n",
      "model:\n",
      "  model_name: BAAI/bge-large-en-v1.5\n",
      "  epoch: 2\n",
      "  lr: 2.0e-05\n",
      "  batch_size: 8\n",
      "\n"
     ]
    }
   ],
   "source": [
    "from datetime import datetime\n",
    "from pathlib import Path\n",
    "\n",
    "import numpy as np\n",
    "import polars as pl\n",
    "import pytz\n",
    "import torch\n",
    "from datasets import Dataset\n",
    "from omegaconf import OmegaConf\n",
    "from sentence_transformers import (\n",
    "    SentenceTransformer,\n",
    "    SentenceTransformerTrainer,\n",
    "    SentenceTransformerTrainingArguments,\n",
    ")\n",
    "from sentence_transformers.losses import MultipleNegativesRankingLoss\n",
    "from sentence_transformers.training_args import BatchSamplers\n",
    "from sklearn.metrics.pairwise import cosine_similarity\n",
    "\n",
    "from src.config import cfg\n",
    "from src.data import add_subject_name_info, preprocess_train\n",
    "from src.dir import create_dir\n",
    "from src.seed import seed_everything\n",
    "\n",
    "cfg.exp_number = Path().resolve().name\n",
    "print(OmegaConf.to_yaml(cfg, resolve=True))\n",
    "\n",
    "seed_everything(cfg.seed)\n"
   ]
  },
  {
   "cell_type": "code",
   "execution_count": 2,
   "metadata": {},
   "outputs": [],
   "source": [
    "DEBUG = False\n"
   ]
  },
  {
   "cell_type": "markdown",
   "metadata": {},
   "source": [
    "### Data Load"
   ]
  },
  {
   "cell_type": "code",
   "execution_count": 3,
   "metadata": {},
   "outputs": [],
   "source": [
    "# データの読み込み\n",
    "train = pl.read_csv(cfg.data.train_path, try_parse_dates=True)\n",
    "test = pl.read_csv(cfg.data.test_path, try_parse_dates=True)\n",
    "sample_submission = pl.read_csv(cfg.data.sample_submission_path, try_parse_dates=True)\n",
    "mapping = pl.read_csv(cfg.data.mapping_path, try_parse_dates=True)\n",
    "mapping_meta = pl.read_parquet(cfg.data.mapping_meta_path)\n"
   ]
  },
  {
   "cell_type": "code",
   "execution_count": 4,
   "metadata": {},
   "outputs": [
    {
     "data": {
      "text/html": [
       "<div><style>\n",
       ".dataframe > thead > tr,\n",
       ".dataframe > tbody > tr {\n",
       "  text-align: right;\n",
       "  white-space: pre-wrap;\n",
       "}\n",
       "</style>\n",
       "<small>shape: (5, 11)</small><table border=\"1\" class=\"dataframe\"><thead><tr><th>QuestionId</th><th>ConstructName</th><th>SubjectName</th><th>QuestionText</th><th>CorrectAnswer</th><th>AnswerType</th><th>AnswerText</th><th>AllText</th><th>AnswerAlphabet</th><th>QuestionId_Answer</th><th>MisconceptionId</th></tr><tr><td>i64</td><td>str</td><td>str</td><td>str</td><td>str</td><td>str</td><td>str</td><td>str</td><td>str</td><td>str</td><td>i64</td></tr></thead><tbody><tr><td>0</td><td>&quot;Use the order of operations to…</td><td>&quot;BIDMAS&quot;</td><td>&quot;\\[\n",
       "3 \\times 2+4-5\n",
       "\\]\n",
       "Where do …</td><td>&quot;A&quot;</td><td>&quot;AnswerDText&quot;</td><td>&quot;Does not need brackets&quot;</td><td>&quot;ConstructName: Use the order o…</td><td>&quot;D&quot;</td><td>&quot;0_D&quot;</td><td>1672</td></tr><tr><td>1000</td><td>&quot;Simplify an algebraic fraction…</td><td>&quot;Simplifying Algebraic Fraction…</td><td>&quot;Simplify the following, if pos…</td><td>&quot;B&quot;</td><td>&quot;AnswerAText&quot;</td><td>&quot;\\( t \\)&quot;</td><td>&quot;ConstructName: Simplify an alg…</td><td>&quot;A&quot;</td><td>&quot;1000_A&quot;</td><td>891</td></tr><tr><td>1000</td><td>&quot;Simplify an algebraic fraction…</td><td>&quot;Simplifying Algebraic Fraction…</td><td>&quot;Simplify the following, if pos…</td><td>&quot;B&quot;</td><td>&quot;AnswerCText&quot;</td><td>&quot;\\( 1 \\)&quot;</td><td>&quot;ConstructName: Simplify an alg…</td><td>&quot;C&quot;</td><td>&quot;1000_C&quot;</td><td>891</td></tr><tr><td>1000</td><td>&quot;Simplify an algebraic fraction…</td><td>&quot;Simplifying Algebraic Fraction…</td><td>&quot;Simplify the following, if pos…</td><td>&quot;B&quot;</td><td>&quot;AnswerDText&quot;</td><td>&quot;Does not simplify&quot;</td><td>&quot;ConstructName: Simplify an alg…</td><td>&quot;D&quot;</td><td>&quot;1000_D&quot;</td><td>353</td></tr><tr><td>1001</td><td>&quot;Round numbers to two decimal p…</td><td>&quot;Rounding to Decimal Places&quot;</td><td>&quot;What is \\( \\mathbf{3 . 5 1 6 3…</td><td>&quot;B&quot;</td><td>&quot;AnswerAText&quot;</td><td>&quot;\\( 3.51 \\)&quot;</td><td>&quot;ConstructName: Round numbers t…</td><td>&quot;A&quot;</td><td>&quot;1001_A&quot;</td><td>1379</td></tr></tbody></table></div>"
      ],
      "text/plain": [
       "shape: (5, 11)\n",
       "┌───────────┬───────────┬───────────┬───────────┬───┬───────────┬───────────┬───────────┬──────────┐\n",
       "│ QuestionI ┆ Construct ┆ SubjectNa ┆ QuestionT ┆ … ┆ AllText   ┆ AnswerAlp ┆ QuestionI ┆ Misconce │\n",
       "│ d         ┆ Name      ┆ me        ┆ ext       ┆   ┆ ---       ┆ habet     ┆ d_Answer  ┆ ptionId  │\n",
       "│ ---       ┆ ---       ┆ ---       ┆ ---       ┆   ┆ str       ┆ ---       ┆ ---       ┆ ---      │\n",
       "│ i64       ┆ str       ┆ str       ┆ str       ┆   ┆           ┆ str       ┆ str       ┆ i64      │\n",
       "╞═══════════╪═══════════╪═══════════╪═══════════╪═══╪═══════════╪═══════════╪═══════════╪══════════╡\n",
       "│ 0         ┆ Use the   ┆ BIDMAS    ┆ \\[        ┆ … ┆ Construct ┆ D         ┆ 0_D       ┆ 1672     │\n",
       "│           ┆ order of  ┆           ┆ 3 \\times  ┆   ┆ Name: Use ┆           ┆           ┆          │\n",
       "│           ┆ operation ┆           ┆ 2+4-5     ┆   ┆ the order ┆           ┆           ┆          │\n",
       "│           ┆ s to…     ┆           ┆ \\]        ┆   ┆ o…        ┆           ┆           ┆          │\n",
       "│           ┆           ┆           ┆ Where do  ┆   ┆           ┆           ┆           ┆          │\n",
       "│           ┆           ┆           ┆ …         ┆   ┆           ┆           ┆           ┆          │\n",
       "│ 1000      ┆ Simplify  ┆ Simplifyi ┆ Simplify  ┆ … ┆ Construct ┆ A         ┆ 1000_A    ┆ 891      │\n",
       "│           ┆ an        ┆ ng        ┆ the follo ┆   ┆ Name:     ┆           ┆           ┆          │\n",
       "│           ┆ algebraic ┆ Algebraic ┆ wing, if  ┆   ┆ Simplify  ┆           ┆           ┆          │\n",
       "│           ┆ fraction… ┆ Fraction… ┆ pos…      ┆   ┆ an alg…   ┆           ┆           ┆          │\n",
       "│ 1000      ┆ Simplify  ┆ Simplifyi ┆ Simplify  ┆ … ┆ Construct ┆ C         ┆ 1000_C    ┆ 891      │\n",
       "│           ┆ an        ┆ ng        ┆ the follo ┆   ┆ Name:     ┆           ┆           ┆          │\n",
       "│           ┆ algebraic ┆ Algebraic ┆ wing, if  ┆   ┆ Simplify  ┆           ┆           ┆          │\n",
       "│           ┆ fraction… ┆ Fraction… ┆ pos…      ┆   ┆ an alg…   ┆           ┆           ┆          │\n",
       "│ 1000      ┆ Simplify  ┆ Simplifyi ┆ Simplify  ┆ … ┆ Construct ┆ D         ┆ 1000_D    ┆ 353      │\n",
       "│           ┆ an        ┆ ng        ┆ the follo ┆   ┆ Name:     ┆           ┆           ┆          │\n",
       "│           ┆ algebraic ┆ Algebraic ┆ wing, if  ┆   ┆ Simplify  ┆           ┆           ┆          │\n",
       "│           ┆ fraction… ┆ Fraction… ┆ pos…      ┆   ┆ an alg…   ┆           ┆           ┆          │\n",
       "│ 1001      ┆ Round     ┆ Rounding  ┆ What is   ┆ … ┆ Construct ┆ A         ┆ 1001_A    ┆ 1379     │\n",
       "│           ┆ numbers   ┆ to        ┆ \\(        ┆   ┆ Name:     ┆           ┆           ┆          │\n",
       "│           ┆ to two    ┆ Decimal   ┆ \\mathbf{3 ┆   ┆ Round     ┆           ┆           ┆          │\n",
       "│           ┆ decimal   ┆ Places    ┆ . 5 1 6   ┆   ┆ numbers   ┆           ┆           ┆          │\n",
       "│           ┆ p…        ┆           ┆ 3…        ┆   ┆ t…        ┆           ┆           ┆          │\n",
       "└───────────┴───────────┴───────────┴───────────┴───┴───────────┴───────────┴───────────┴──────────┘"
      ]
     },
     "execution_count": 4,
     "metadata": {},
     "output_type": "execute_result"
    }
   ],
   "source": [
    "# trainの前処理\n",
    "train_long = preprocess_train(train)\n",
    "train_long.head()\n"
   ]
  },
  {
   "cell_type": "code",
   "execution_count": 5,
   "metadata": {},
   "outputs": [
    {
     "data": {
      "text/html": [
       "<div><style>\n",
       ".dataframe > thead > tr,\n",
       ".dataframe > tbody > tr {\n",
       "  text-align: right;\n",
       "  white-space: pre-wrap;\n",
       "}\n",
       "</style>\n",
       "<small>shape: (5, 4)</small><table border=\"1\" class=\"dataframe\"><thead><tr><th>MisconceptionId</th><th>MisconceptionName</th><th>SubjectNames</th><th>MisconceptionName_with_SubjectNames</th></tr><tr><td>i64</td><td>str</td><td>list[str]</td><td>str</td></tr></thead><tbody><tr><td>0</td><td>&quot;Does not know that angles in a…</td><td>[&quot;Angles in Triangles&quot;]</td><td>&quot;The misconception &#x27;Does not kn…</td></tr><tr><td>1</td><td>&quot;Uses dividing fractions method…</td><td>[&quot;Multiplying and Dividing Negative Numbers&quot;, &quot;Multiplying Fractions&quot;]</td><td>&quot;The misconception &#x27;Uses dividi…</td></tr><tr><td>2</td><td>&quot;Believes there are 100 degrees…</td><td>[&quot;Types, Naming and Estimating&quot;, &quot;Measuring Angles&quot;]</td><td>&quot;The misconception &#x27;Believes th…</td></tr><tr><td>3</td><td>&quot;Thinks a quadratic without a n…</td><td>[&quot;Factorising into a Single Bracket&quot;]</td><td>&quot;The misconception &#x27;Thinks a qu…</td></tr><tr><td>4</td><td>&quot;Believes addition of terms and…</td><td>[&quot;Simplifying Expressions by Collecting Like Terms&quot;]</td><td>&quot;The misconception &#x27;Believes ad…</td></tr></tbody></table></div>"
      ],
      "text/plain": [
       "shape: (5, 4)\n",
       "┌─────────────────┬──────────────────────────┬──────────────────────────┬──────────────────────────┐\n",
       "│ MisconceptionId ┆ MisconceptionName        ┆ SubjectNames             ┆ MisconceptionName_with_S │\n",
       "│ ---             ┆ ---                      ┆ ---                      ┆ ubject…                  │\n",
       "│ i64             ┆ str                      ┆ list[str]                ┆ ---                      │\n",
       "│                 ┆                          ┆                          ┆ str                      │\n",
       "╞═════════════════╪══════════════════════════╪══════════════════════════╪══════════════════════════╡\n",
       "│ 0               ┆ Does not know that       ┆ [\"Angles in Triangles\"]  ┆ The misconception 'Does  │\n",
       "│                 ┆ angles in a…             ┆                          ┆ not kn…                  │\n",
       "│ 1               ┆ Uses dividing fractions  ┆ [\"Multiplying and        ┆ The misconception 'Uses  │\n",
       "│                 ┆ method…                  ┆ Dividing Neg…            ┆ dividi…                  │\n",
       "│ 2               ┆ Believes there are 100   ┆ [\"Types, Naming and      ┆ The misconception        │\n",
       "│                 ┆ degrees…                 ┆ Estimating…              ┆ 'Believes th…            │\n",
       "│ 3               ┆ Thinks a quadratic       ┆ [\"Factorising into a     ┆ The misconception        │\n",
       "│                 ┆ without a n…             ┆ Single Br…               ┆ 'Thinks a qu…            │\n",
       "│ 4               ┆ Believes addition of     ┆ [\"Simplifying            ┆ The misconception        │\n",
       "│                 ┆ terms and…               ┆ Expressions by C…        ┆ 'Believes ad…            │\n",
       "└─────────────────┴──────────────────────────┴──────────────────────────┴──────────────────────────┘"
      ]
     },
     "execution_count": 5,
     "metadata": {},
     "output_type": "execute_result"
    }
   ],
   "source": [
    "# trainのSubjectName情報をmappingに追加\n",
    "mapping_meta = add_subject_name_info(train, mapping)\n",
    "mapping_meta.head()\n"
   ]
  },
  {
   "cell_type": "markdown",
   "metadata": {},
   "source": [
    "### Make retrieval data"
   ]
  },
  {
   "cell_type": "code",
   "execution_count": 6,
   "metadata": {},
   "outputs": [
    {
     "name": "stdout",
     "output_type": "stream",
     "text": [
      "(4370, 1024) (2587, 1024)\n"
     ]
    }
   ],
   "source": [
    "model = SentenceTransformer(cfg.model.model_name, trust_remote_code=True)\n",
    "\n",
    "train_long_vec = model.encode(train_long[\"AllText\"].to_list(), normalize_embeddings=True)\n",
    "misconception_mapping_vec = model.encode(\n",
    "    mapping_meta[\"MisconceptionName_with_SubjectNames\"].to_list(), normalize_embeddings=True\n",
    ")\n",
    "print(train_long_vec.shape, misconception_mapping_vec.shape)\n"
   ]
  },
  {
   "cell_type": "code",
   "execution_count": 7,
   "metadata": {},
   "outputs": [
    {
     "name": "stdout",
     "output_type": "stream",
     "text": [
      "train_cos_sim_arr.shape: (4370, 2587)\n",
      "[0.5054938  0.6122866  0.42998317 ... 0.44713372 0.64220685 0.6939039 ]\n",
      "\n",
      "train_sorted_indices.shape: (4370, 2587)\n",
      "[2488  871 1316 ... 2299  237  211]\n"
     ]
    }
   ],
   "source": [
    "# コサイン類似度を計算\n",
    "train_cos_sim_arr = cosine_similarity(train_long_vec, misconception_mapping_vec)\n",
    "print(f\"train_cos_sim_arr.shape: {train_cos_sim_arr.shape}\")\n",
    "print(train_cos_sim_arr[0])\n",
    "\n",
    "# コサイン類似度が降順になるように各行をソート\n",
    "train_sorted_indices = np.argsort(-train_cos_sim_arr, axis=1)\n",
    "print(f\"\\ntrain_sorted_indices.shape: {train_sorted_indices.shape}\")\n",
    "print(train_sorted_indices[0])\n"
   ]
  },
  {
   "cell_type": "code",
   "execution_count": 8,
   "metadata": {},
   "outputs": [
    {
     "data": {
      "text/html": [
       "<div><style>\n",
       ".dataframe > thead > tr,\n",
       ".dataframe > tbody > tr {\n",
       "  text-align: right;\n",
       "  white-space: pre-wrap;\n",
       "}\n",
       "</style>\n",
       "<small>shape: (1, 12)</small><table border=\"1\" class=\"dataframe\"><thead><tr><th>QuestionId</th><th>ConstructName</th><th>SubjectName</th><th>QuestionText</th><th>CorrectAnswer</th><th>AnswerType</th><th>AnswerText</th><th>AllText</th><th>AnswerAlphabet</th><th>QuestionId_Answer</th><th>MisconceptionId</th><th>PredictMisconceptionId</th></tr><tr><td>i64</td><td>str</td><td>str</td><td>str</td><td>str</td><td>str</td><td>str</td><td>str</td><td>str</td><td>str</td><td>i64</td><td>list[i64]</td></tr></thead><tbody><tr><td>0</td><td>&quot;Use the order of operations to…</td><td>&quot;BIDMAS&quot;</td><td>&quot;\\[\n",
       "3 \\times 2+4-5\n",
       "\\]\n",
       "Where do …</td><td>&quot;A&quot;</td><td>&quot;AnswerDText&quot;</td><td>&quot;Does not need brackets&quot;</td><td>&quot;ConstructName: Use the order o…</td><td>&quot;D&quot;</td><td>&quot;0_D&quot;</td><td>1672</td><td>[2488, 871, … 2181]</td></tr></tbody></table></div>"
      ],
      "text/plain": [
       "shape: (1, 12)\n",
       "┌───────────┬───────────┬───────────┬───────────┬───┬───────────┬───────────┬───────────┬──────────┐\n",
       "│ QuestionI ┆ Construct ┆ SubjectNa ┆ QuestionT ┆ … ┆ AnswerAlp ┆ QuestionI ┆ Misconcep ┆ PredictM │\n",
       "│ d         ┆ Name      ┆ me        ┆ ext       ┆   ┆ habet     ┆ d_Answer  ┆ tionId    ┆ isconcep │\n",
       "│ ---       ┆ ---       ┆ ---       ┆ ---       ┆   ┆ ---       ┆ ---       ┆ ---       ┆ tionId   │\n",
       "│ i64       ┆ str       ┆ str       ┆ str       ┆   ┆ str       ┆ str       ┆ i64       ┆ ---      │\n",
       "│           ┆           ┆           ┆           ┆   ┆           ┆           ┆           ┆ list[i64 │\n",
       "│           ┆           ┆           ┆           ┆   ┆           ┆           ┆           ┆ ]        │\n",
       "╞═══════════╪═══════════╪═══════════╪═══════════╪═══╪═══════════╪═══════════╪═══════════╪══════════╡\n",
       "│ 0         ┆ Use the   ┆ BIDMAS    ┆ \\[        ┆ … ┆ D         ┆ 0_D       ┆ 1672      ┆ [2488,   │\n",
       "│           ┆ order of  ┆           ┆ 3 \\times  ┆   ┆           ┆           ┆           ┆ 871, …   │\n",
       "│           ┆ operation ┆           ┆ 2+4-5     ┆   ┆           ┆           ┆           ┆ 2181]    │\n",
       "│           ┆ s to…     ┆           ┆ \\]        ┆   ┆           ┆           ┆           ┆          │\n",
       "│           ┆           ┆           ┆ Where do  ┆   ┆           ┆           ┆           ┆          │\n",
       "│           ┆           ┆           ┆ …         ┆   ┆           ┆           ┆           ┆          │\n",
       "└───────────┴───────────┴───────────┴───────────┴───┴───────────┴───────────┴───────────┴──────────┘"
      ]
     },
     "execution_count": 8,
     "metadata": {},
     "output_type": "execute_result"
    }
   ],
   "source": [
    "train_long = train_long.with_columns(\n",
    "    pl.Series(train_sorted_indices[:, : cfg.k].tolist()).alias(\"PredictMisconceptionId\")\n",
    ")\n",
    "train_long.head(1)\n"
   ]
  },
  {
   "cell_type": "code",
   "execution_count": 9,
   "metadata": {},
   "outputs": [
    {
     "data": {
      "text/html": [
       "<div><style>\n",
       ".dataframe > thead > tr,\n",
       ".dataframe > tbody > tr {\n",
       "  text-align: right;\n",
       "  white-space: pre-wrap;\n",
       "}\n",
       "</style>\n",
       "<small>shape: (2_587, 4)</small><table border=\"1\" class=\"dataframe\"><thead><tr><th>PredictMisconceptionId</th><th>PredictMisconceptionName</th><th>PredictSubjectNames</th><th>PredictMisconceptionName_with_SubjectNames</th></tr><tr><td>i64</td><td>str</td><td>list[str]</td><td>str</td></tr></thead><tbody><tr><td>0</td><td>&quot;Does not know that angles in a…</td><td>[&quot;Angles in Triangles&quot;]</td><td>&quot;The misconception &#x27;Does not kn…</td></tr><tr><td>1</td><td>&quot;Uses dividing fractions method…</td><td>[&quot;Multiplying and Dividing Negative Numbers&quot;, &quot;Multiplying Fractions&quot;]</td><td>&quot;The misconception &#x27;Uses dividi…</td></tr><tr><td>2</td><td>&quot;Believes there are 100 degrees…</td><td>[&quot;Types, Naming and Estimating&quot;, &quot;Measuring Angles&quot;]</td><td>&quot;The misconception &#x27;Believes th…</td></tr><tr><td>3</td><td>&quot;Thinks a quadratic without a n…</td><td>[&quot;Factorising into a Single Bracket&quot;]</td><td>&quot;The misconception &#x27;Thinks a qu…</td></tr><tr><td>4</td><td>&quot;Believes addition of terms and…</td><td>[&quot;Simplifying Expressions by Collecting Like Terms&quot;]</td><td>&quot;The misconception &#x27;Believes ad…</td></tr><tr><td>&hellip;</td><td>&hellip;</td><td>&hellip;</td><td>&hellip;</td></tr><tr><td>2582</td><td>&quot;When multiplying numbers with …</td><td>[]</td><td>&quot;The misconception is: When mul…</td></tr><tr><td>2583</td><td>&quot;Does not know what a cube numb…</td><td>[&quot;Square Roots, Cube Roots, etc&quot;, &quot;Squares, Cubes, etc&quot;]</td><td>&quot;The misconception &#x27;Does not kn…</td></tr><tr><td>2584</td><td>&quot;Believes that any percentage o…</td><td>[]</td><td>&quot;The misconception is: Believes…</td></tr><tr><td>2585</td><td>&quot;Believes a cubic expression sh…</td><td>[&quot;Expanding Triple Brackets and more&quot;]</td><td>&quot;The misconception &#x27;Believes a …</td></tr><tr><td>2586</td><td>&quot;Misunderstands order of operat…</td><td>[&quot;Rearranging Formula and Equations&quot;]</td><td>&quot;The misconception &#x27;Misundersta…</td></tr></tbody></table></div>"
      ],
      "text/plain": [
       "shape: (2_587, 4)\n",
       "┌────────────────────────┬────────────────────────┬────────────────────────┬───────────────────────┐\n",
       "│ PredictMisconceptionId ┆ PredictMisconceptionNa ┆ PredictSubjectNames    ┆ PredictMisconceptionN │\n",
       "│ ---                    ┆ me                     ┆ ---                    ┆ ame_with_…            │\n",
       "│ i64                    ┆ ---                    ┆ list[str]              ┆ ---                   │\n",
       "│                        ┆ str                    ┆                        ┆ str                   │\n",
       "╞════════════════════════╪════════════════════════╪════════════════════════╪═══════════════════════╡\n",
       "│ 0                      ┆ Does not know that     ┆ [\"Angles in            ┆ The misconception     │\n",
       "│                        ┆ angles in a…           ┆ Triangles\"]            ┆ 'Does not kn…         │\n",
       "│ 1                      ┆ Uses dividing          ┆ [\"Multiplying and      ┆ The misconception     │\n",
       "│                        ┆ fractions method…      ┆ Dividing Neg…          ┆ 'Uses dividi…         │\n",
       "│ 2                      ┆ Believes there are 100 ┆ [\"Types, Naming and    ┆ The misconception     │\n",
       "│                        ┆ degrees…               ┆ Estimating…            ┆ 'Believes th…         │\n",
       "│ 3                      ┆ Thinks a quadratic     ┆ [\"Factorising into a   ┆ The misconception     │\n",
       "│                        ┆ without a n…           ┆ Single Br…             ┆ 'Thinks a qu…         │\n",
       "│ 4                      ┆ Believes addition of   ┆ [\"Simplifying          ┆ The misconception     │\n",
       "│                        ┆ terms and…             ┆ Expressions by C…      ┆ 'Believes ad…         │\n",
       "│ …                      ┆ …                      ┆ …                      ┆ …                     │\n",
       "│ 2582                   ┆ When multiplying       ┆ []                     ┆ The misconception is: │\n",
       "│                        ┆ numbers with …         ┆                        ┆ When mul…             │\n",
       "│ 2583                   ┆ Does not know what a   ┆ [\"Square Roots, Cube   ┆ The misconception     │\n",
       "│                        ┆ cube numb…             ┆ Roots, et…             ┆ 'Does not kn…         │\n",
       "│ 2584                   ┆ Believes that any      ┆ []                     ┆ The misconception is: │\n",
       "│                        ┆ percentage o…          ┆                        ┆ Believes…             │\n",
       "│ 2585                   ┆ Believes a cubic       ┆ [\"Expanding Triple     ┆ The misconception     │\n",
       "│                        ┆ expression sh…         ┆ Brackets an…           ┆ 'Believes a …         │\n",
       "│ 2586                   ┆ Misunderstands order   ┆ [\"Rearranging Formula  ┆ The misconception     │\n",
       "│                        ┆ of operat…             ┆ and Equa…              ┆ 'Misundersta…         │\n",
       "└────────────────────────┴────────────────────────┴────────────────────────┴───────────────────────┘"
      ]
     },
     "execution_count": 9,
     "metadata": {},
     "output_type": "execute_result"
    }
   ],
   "source": [
    "mapping_meta.rename(lambda x: \"Predict\" + x)\n"
   ]
  },
  {
   "cell_type": "code",
   "execution_count": 10,
   "metadata": {},
   "outputs": [
    {
     "data": {
      "text/html": [
       "<div><style>\n",
       ".dataframe > thead > tr,\n",
       ".dataframe > tbody > tr {\n",
       "  text-align: right;\n",
       "  white-space: pre-wrap;\n",
       "}\n",
       "</style>\n",
       "<small>shape: (3, 18)</small><table border=\"1\" class=\"dataframe\"><thead><tr><th>QuestionId</th><th>ConstructName</th><th>SubjectName</th><th>QuestionText</th><th>CorrectAnswer</th><th>AnswerType</th><th>AnswerText</th><th>AllText</th><th>AnswerAlphabet</th><th>QuestionId_Answer</th><th>MisconceptionId</th><th>PredictMisconceptionId</th><th>MisconceptionName</th><th>SubjectNames</th><th>MisconceptionName_with_SubjectNames</th><th>PredictMisconceptionName</th><th>PredictSubjectNames</th><th>PredictMisconceptionName_with_SubjectNames</th></tr><tr><td>i64</td><td>str</td><td>str</td><td>str</td><td>str</td><td>str</td><td>str</td><td>str</td><td>str</td><td>str</td><td>i64</td><td>i64</td><td>str</td><td>list[str]</td><td>str</td><td>str</td><td>list[str]</td><td>str</td></tr></thead><tbody><tr><td>0</td><td>&quot;Use the order of operations to…</td><td>&quot;BIDMAS&quot;</td><td>&quot;\\[\n",
       "3 \\times 2+4-5\n",
       "\\]\n",
       "Where do …</td><td>&quot;A&quot;</td><td>&quot;AnswerDText&quot;</td><td>&quot;Does not need brackets&quot;</td><td>&quot;ConstructName: Use the order o…</td><td>&quot;D&quot;</td><td>&quot;0_D&quot;</td><td>1672</td><td>2488</td><td>&quot;Confuses the order of operatio…</td><td>[&quot;BIDMAS&quot;]</td><td>&quot;The misconception &#x27;Confuses th…</td><td>&quot;Answers order of operations qu…</td><td>[&quot;Multiplying and Dividing Algebraic Fractions&quot;, &quot;Substitution into Formula&quot;, … &quot;Function Machines&quot;]</td><td>&quot;The misconception &#x27;Answers ord…</td></tr><tr><td>0</td><td>&quot;Use the order of operations to…</td><td>&quot;BIDMAS&quot;</td><td>&quot;\\[\n",
       "3 \\times 2+4-5\n",
       "\\]\n",
       "Where do …</td><td>&quot;A&quot;</td><td>&quot;AnswerDText&quot;</td><td>&quot;Does not need brackets&quot;</td><td>&quot;ConstructName: Use the order o…</td><td>&quot;D&quot;</td><td>&quot;0_D&quot;</td><td>1672</td><td>871</td><td>&quot;Confuses the order of operatio…</td><td>[&quot;BIDMAS&quot;]</td><td>&quot;The misconception &#x27;Confuses th…</td><td>&quot;Does not include brackets when…</td><td>[&quot;Linear Equations&quot;]</td><td>&quot;The misconception &#x27;Does not in…</td></tr><tr><td>0</td><td>&quot;Use the order of operations to…</td><td>&quot;BIDMAS&quot;</td><td>&quot;\\[\n",
       "3 \\times 2+4-5\n",
       "\\]\n",
       "Where do …</td><td>&quot;A&quot;</td><td>&quot;AnswerDText&quot;</td><td>&quot;Does not need brackets&quot;</td><td>&quot;ConstructName: Use the order o…</td><td>&quot;D&quot;</td><td>&quot;0_D&quot;</td><td>1672</td><td>1316</td><td>&quot;Confuses the order of operatio…</td><td>[&quot;BIDMAS&quot;]</td><td>&quot;The misconception &#x27;Confuses th…</td><td>&quot;Does not understand that the n…</td><td>[&quot;BIDMAS&quot;]</td><td>&quot;The misconception &#x27;Does not un…</td></tr></tbody></table></div>"
      ],
      "text/plain": [
       "shape: (3, 18)\n",
       "┌───────────┬───────────┬───────────┬───────────┬───┬───────────┬───────────┬───────────┬──────────┐\n",
       "│ QuestionI ┆ Construct ┆ SubjectNa ┆ QuestionT ┆ … ┆ Misconcep ┆ PredictMi ┆ PredictSu ┆ PredictM │\n",
       "│ d         ┆ Name      ┆ me        ┆ ext       ┆   ┆ tionName_ ┆ sconcepti ┆ bjectName ┆ isconcep │\n",
       "│ ---       ┆ ---       ┆ ---       ┆ ---       ┆   ┆ with_Subj ┆ onName    ┆ s         ┆ tionName │\n",
       "│ i64       ┆ str       ┆ str       ┆ str       ┆   ┆ ect…      ┆ ---       ┆ ---       ┆ _with_…  │\n",
       "│           ┆           ┆           ┆           ┆   ┆ ---       ┆ str       ┆ list[str] ┆ ---      │\n",
       "│           ┆           ┆           ┆           ┆   ┆ str       ┆           ┆           ┆ str      │\n",
       "╞═══════════╪═══════════╪═══════════╪═══════════╪═══╪═══════════╪═══════════╪═══════════╪══════════╡\n",
       "│ 0         ┆ Use the   ┆ BIDMAS    ┆ \\[        ┆ … ┆ The misco ┆ Answers   ┆ [\"Multipl ┆ The misc │\n",
       "│           ┆ order of  ┆           ┆ 3 \\times  ┆   ┆ nception  ┆ order of  ┆ ying and  ┆ onceptio │\n",
       "│           ┆ operation ┆           ┆ 2+4-5     ┆   ┆ 'Confuses ┆ operation ┆ Dividing  ┆ n        │\n",
       "│           ┆ s to…     ┆           ┆ \\]        ┆   ┆ th…       ┆ s qu…     ┆ Alg…      ┆ 'Answers │\n",
       "│           ┆           ┆           ┆ Where do  ┆   ┆           ┆           ┆           ┆ ord…     │\n",
       "│           ┆           ┆           ┆ …         ┆   ┆           ┆           ┆           ┆          │\n",
       "│ 0         ┆ Use the   ┆ BIDMAS    ┆ \\[        ┆ … ┆ The misco ┆ Does not  ┆ [\"Linear  ┆ The misc │\n",
       "│           ┆ order of  ┆           ┆ 3 \\times  ┆   ┆ nception  ┆ include   ┆ Equations ┆ onceptio │\n",
       "│           ┆ operation ┆           ┆ 2+4-5     ┆   ┆ 'Confuses ┆ brackets  ┆ \"]        ┆ n 'Does  │\n",
       "│           ┆ s to…     ┆           ┆ \\]        ┆   ┆ th…       ┆ when…     ┆           ┆ not in…  │\n",
       "│           ┆           ┆           ┆ Where do  ┆   ┆           ┆           ┆           ┆          │\n",
       "│           ┆           ┆           ┆ …         ┆   ┆           ┆           ┆           ┆          │\n",
       "│ 0         ┆ Use the   ┆ BIDMAS    ┆ \\[        ┆ … ┆ The misco ┆ Does not  ┆ [\"BIDMAS\" ┆ The misc │\n",
       "│           ┆ order of  ┆           ┆ 3 \\times  ┆   ┆ nception  ┆ understan ┆ ]         ┆ onceptio │\n",
       "│           ┆ operation ┆           ┆ 2+4-5     ┆   ┆ 'Confuses ┆ d that    ┆           ┆ n 'Does  │\n",
       "│           ┆ s to…     ┆           ┆ \\]        ┆   ┆ th…       ┆ the n…    ┆           ┆ not un…  │\n",
       "│           ┆           ┆           ┆ Where do  ┆   ┆           ┆           ┆           ┆          │\n",
       "│           ┆           ┆           ┆ …         ┆   ┆           ┆           ┆           ┆          │\n",
       "└───────────┴───────────┴───────────┴───────────┴───┴───────────┴───────────┴───────────┴──────────┘"
      ]
     },
     "metadata": {},
     "output_type": "display_data"
    },
    {
     "name": "stdout",
     "output_type": "stream",
     "text": [
      "train_retrieved.shape: (106042, 18)\n"
     ]
    }
   ],
   "source": [
    "train_retrieved = (\n",
    "    train_long.explode(\"PredictMisconceptionId\")\n",
    "    .join(mapping_meta, on=\"MisconceptionId\")\n",
    "    .join(mapping_meta.rename(lambda x: \"Predict\" + x), on=\"PredictMisconceptionId\")\n",
    "    # MisconceptionIdとPredictMisconceptionIdが同じ行（正解してるもの）を削除\n",
    "    .filter(pl.col(\"MisconceptionId\") != pl.col(\"PredictMisconceptionId\"))\n",
    ")\n",
    "display(train_retrieved.head(3))\n",
    "print(f\"train_retrieved.shape: {train_retrieved.shape}\")\n"
   ]
  },
  {
   "cell_type": "markdown",
   "metadata": {},
   "source": [
    "### Fine-tuning"
   ]
  },
  {
   "cell_type": "code",
   "execution_count": 11,
   "metadata": {},
   "outputs": [
    {
     "data": {
      "text/plain": [
       "Dataset({\n",
       "    features: ['QuestionId', 'ConstructName', 'SubjectName', 'QuestionText', 'CorrectAnswer', 'AnswerType', 'AnswerText', 'AllText', 'AnswerAlphabet', 'QuestionId_Answer', 'MisconceptionId', 'PredictMisconceptionId', 'MisconceptionName', 'SubjectNames', 'MisconceptionName_with_SubjectNames', 'PredictMisconceptionName', 'PredictSubjectNames', 'PredictMisconceptionName_with_SubjectNames'],\n",
       "    num_rows: 106042\n",
       "})"
      ]
     },
     "execution_count": 11,
     "metadata": {},
     "output_type": "execute_result"
    }
   ],
   "source": [
    "train_dataset = Dataset.from_polars(train_retrieved)\n",
    "train_dataset\n"
   ]
  },
  {
   "cell_type": "code",
   "execution_count": 12,
   "metadata": {},
   "outputs": [],
   "source": [
    "if DEBUG:\n",
    "    train_dataset = train_dataset.select(range(500))\n"
   ]
  },
  {
   "cell_type": "code",
   "execution_count": 13,
   "metadata": {},
   "outputs": [
    {
     "name": "stdout",
     "output_type": "stream",
     "text": [
      "Directory created: ../../results/002/20241113_100343\n",
      "torch.cuda.is_bf16_supported()=True\n",
      "BAAI/bge-large-en-v1.5のfine-tuningを開始します。\n"
     ]
    },
    {
     "data": {
      "text/html": [
       "\n",
       "    <div>\n",
       "      \n",
       "      <progress value='482' max='1656' style='width:300px; height:20px; vertical-align: middle;'></progress>\n",
       "      [ 482/1656 2:19:12 < 5:40:29, 0.06 it/s, Epoch 0.58/2]\n",
       "    </div>\n",
       "    <table border=\"1\" class=\"dataframe\">\n",
       "  <thead>\n",
       " <tr style=\"text-align: left;\">\n",
       "      <th>Step</th>\n",
       "      <th>Training Loss</th>\n",
       "    </tr>\n",
       "  </thead>\n",
       "  <tbody>\n",
       "    <tr>\n",
       "      <td>100</td>\n",
       "      <td>1.239800</td>\n",
       "    </tr>\n",
       "    <tr>\n",
       "      <td>200</td>\n",
       "      <td>0.995000</td>\n",
       "    </tr>\n",
       "    <tr>\n",
       "      <td>300</td>\n",
       "      <td>1.042400</td>\n",
       "    </tr>\n",
       "    <tr>\n",
       "      <td>400</td>\n",
       "      <td>1.059300</td>\n",
       "    </tr>\n",
       "  </tbody>\n",
       "</table><p>"
      ],
      "text/plain": [
       "<IPython.core.display.HTML object>"
      ]
     },
     "metadata": {},
     "output_type": "display_data"
    },
    {
     "name": "stderr",
     "output_type": "stream",
     "text": [
      "Error while generating model card:                                   \n",
      "Traceback (most recent call last):\n",
      "  File \"/home/marumarukun/pj/compe/kaggle_eedi/.venv/lib/python3.12/site-packages/sentence_transformers/SentenceTransformer.py\", line 1233, in _create_model_card\n",
      "    model_card = generate_model_card(self)\n",
      "                 ^^^^^^^^^^^^^^^^^^^^^^^^^\n",
      "  File \"/home/marumarukun/pj/compe/kaggle_eedi/.venv/lib/python3.12/site-packages/sentence_transformers/model_card.py\", line 962, in generate_model_card\n",
      "    model_card = ModelCard.from_template(card_data=model.model_card_data, template_path=template_path, hf_emoji=\"🤗\")\n",
      "                 ^^^^^^^^^^^^^^^^^^^^^^^^^^^^^^^^^^^^^^^^^^^^^^^^^^^^^^^^^^^^^^^^^^^^^^^^^^^^^^^^^^^^^^^^^^^^^^^^^^^^\n",
      "  File \"/home/marumarukun/pj/compe/kaggle_eedi/.venv/lib/python3.12/site-packages/huggingface_hub/repocard.py\", line 416, in from_template\n",
      "    return super().from_template(card_data, template_path, template_str, **template_kwargs)\n",
      "           ^^^^^^^^^^^^^^^^^^^^^^^^^^^^^^^^^^^^^^^^^^^^^^^^^^^^^^^^^^^^^^^^^^^^^^^^^^^^^^^^\n",
      "  File \"/home/marumarukun/pj/compe/kaggle_eedi/.venv/lib/python3.12/site-packages/huggingface_hub/repocard.py\", line 326, in from_template\n",
      "    kwargs = card_data.to_dict().copy()\n",
      "             ^^^^^^^^^^^^^^^^^^^\n",
      "  File \"/home/marumarukun/pj/compe/kaggle_eedi/.venv/lib/python3.12/site-packages/sentence_transformers/model_card.py\", line 889, in to_dict\n",
      "    self.set_widget_examples(dataset)\n",
      "  File \"/home/marumarukun/pj/compe/kaggle_eedi/.venv/lib/python3.12/site-packages/sentence_transformers/model_card.py\", line 434, in set_widget_examples\n",
      "    indices, _ = zip(*sorted(lengths.items(), key=lambda x: x[1]))\n",
      "    ^^^^^^^^^^\n",
      "ValueError: not enough values to unpack (expected 2, got 0)\n",
      "Consider opening an issue on https://github.com/UKPLab/sentence-transformers/issues with this traceback.\n",
      "Skipping model card creation.\n",
      "Error while generating model card:                                   \n",
      "Traceback (most recent call last):\n",
      "  File \"/home/marumarukun/pj/compe/kaggle_eedi/.venv/lib/python3.12/site-packages/sentence_transformers/SentenceTransformer.py\", line 1233, in _create_model_card\n",
      "    model_card = generate_model_card(self)\n",
      "                 ^^^^^^^^^^^^^^^^^^^^^^^^^\n",
      "  File \"/home/marumarukun/pj/compe/kaggle_eedi/.venv/lib/python3.12/site-packages/sentence_transformers/model_card.py\", line 962, in generate_model_card\n",
      "    model_card = ModelCard.from_template(card_data=model.model_card_data, template_path=template_path, hf_emoji=\"🤗\")\n",
      "                 ^^^^^^^^^^^^^^^^^^^^^^^^^^^^^^^^^^^^^^^^^^^^^^^^^^^^^^^^^^^^^^^^^^^^^^^^^^^^^^^^^^^^^^^^^^^^^^^^^^^^\n",
      "  File \"/home/marumarukun/pj/compe/kaggle_eedi/.venv/lib/python3.12/site-packages/huggingface_hub/repocard.py\", line 416, in from_template\n",
      "    return super().from_template(card_data, template_path, template_str, **template_kwargs)\n",
      "           ^^^^^^^^^^^^^^^^^^^^^^^^^^^^^^^^^^^^^^^^^^^^^^^^^^^^^^^^^^^^^^^^^^^^^^^^^^^^^^^^\n",
      "  File \"/home/marumarukun/pj/compe/kaggle_eedi/.venv/lib/python3.12/site-packages/huggingface_hub/repocard.py\", line 326, in from_template\n",
      "    kwargs = card_data.to_dict().copy()\n",
      "             ^^^^^^^^^^^^^^^^^^^\n",
      "  File \"/home/marumarukun/pj/compe/kaggle_eedi/.venv/lib/python3.12/site-packages/sentence_transformers/model_card.py\", line 889, in to_dict\n",
      "    self.set_widget_examples(dataset)\n",
      "  File \"/home/marumarukun/pj/compe/kaggle_eedi/.venv/lib/python3.12/site-packages/sentence_transformers/model_card.py\", line 434, in set_widget_examples\n",
      "    indices, _ = zip(*sorted(lengths.items(), key=lambda x: x[1]))\n",
      "    ^^^^^^^^^^\n",
      "ValueError: not enough values to unpack (expected 2, got 0)\n",
      "Consider opening an issue on https://github.com/UKPLab/sentence-transformers/issues with this traceback.\n",
      "Skipping model card creation.\n"
     ]
    }
   ],
   "source": [
    "# 実験結果格納用のディレクトリを作成\n",
    "japan_tz = pytz.timezone(\"Asia/Tokyo\")\n",
    "cfg.run_time = datetime.now(japan_tz).strftime(\"%Y%m%d_%H%M%S\")\n",
    "create_dir(cfg.data.results_path)\n",
    "\n",
    "model = SentenceTransformer(cfg.model.model_name, trust_remote_code=True)\n",
    "\n",
    "loss = MultipleNegativesRankingLoss(model)\n",
    "\n",
    "FP = False if torch.cuda.is_bf16_supported() else True\n",
    "BF = True if torch.cuda.is_bf16_supported() else False\n",
    "print(f\"{torch.cuda.is_bf16_supported()=}\")\n",
    "\n",
    "print(f\"{cfg.model.model_name}のfine-tuningを開始します。\")\n",
    "\n",
    "args = SentenceTransformerTrainingArguments(\n",
    "    # Required parameter:\n",
    "    output_dir=cfg.data.results_path,\n",
    "    # Optional training parameters:\n",
    "    num_train_epochs=cfg.model.epoch,\n",
    "    per_device_train_batch_size=cfg.model.batch_size,\n",
    "    gradient_accumulation_steps=128 // cfg.model.batch_size,\n",
    "    per_device_eval_batch_size=cfg.model.batch_size,\n",
    "    eval_accumulation_steps=128 // cfg.model.batch_size,\n",
    "    learning_rate=cfg.model.lr,\n",
    "    weight_decay=0.01,\n",
    "    warmup_ratio=0.1,\n",
    "    fp16=FP,  # Set to False if you get an error that your GPU can't run on FP16\n",
    "    bf16=BF,  # Set to True if you have a GPU that supports BF16\n",
    "    batch_sampler=BatchSamplers.NO_DUPLICATES,  # no duplicate samples in a batch\n",
    "    # Optional tracking/debugging parameters:\n",
    "    lr_scheduler_type=\"cosine_with_restarts\",\n",
    "    save_strategy=\"steps\",\n",
    "    save_steps=0.1,\n",
    "    save_total_limit=2,\n",
    "    logging_steps=100,\n",
    "    # report_to=REPORT_TO,  # Will be used in W&B if `wandb` is installed\n",
    "    # run_name=EXP_NAME,\n",
    "    do_eval=False,\n",
    ")\n",
    "\n",
    "# formatted_dataset = Dataset.from_dict(\n",
    "#     {\n",
    "#         \"anchor\": train_dataset[\"AllText\"],\n",
    "#         \"positive\": train_dataset[\"MisconceptionName_with_SubjectNames\"],\n",
    "#         \"negative\": train_dataset[\"PredictMisconceptionName_with_SubjectNames\"],\n",
    "#     }\n",
    "# )\n",
    "\n",
    "trainer = SentenceTransformerTrainer(\n",
    "    model=model,\n",
    "    args=args,\n",
    "    train_dataset=train_dataset.select_columns(\n",
    "        [\"AllText\", \"MisconceptionName_with_SubjectNames\", \"PredictMisconceptionName_with_SubjectNames\"]\n",
    "    ),\n",
    "    # train_dataset=formatted_dataset,\n",
    "    loss=loss\n",
    ")\n",
    "\n",
    "\n",
    "trainer.train()\n",
    "model.save_pretrained(cfg.data.results_path, create_model_card=False)\n"
   ]
  }
 ],
 "metadata": {
  "kernelspec": {
   "display_name": ".venv",
   "language": "python",
   "name": "python3"
  },
  "language_info": {
   "codemirror_mode": {
    "name": "ipython",
    "version": 3
   },
   "file_extension": ".py",
   "mimetype": "text/x-python",
   "name": "python",
   "nbconvert_exporter": "python",
   "pygments_lexer": "ipython3",
   "version": "3.12.3"
  }
 },
 "nbformat": 4,
 "nbformat_minor": 2
}
