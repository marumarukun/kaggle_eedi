{
 "cells": [
  {
   "cell_type": "code",
   "execution_count": 1,
   "metadata": {},
   "outputs": [
    {
     "name": "stdout",
     "output_type": "stream",
     "text": [
      "exp_number: '000'\n",
      "run_time: base\n",
      "data:\n",
      "  input_root: ../../data/input\n",
      "  train_path: ../../data/input/train.csv\n",
      "  test_path: ../../data/input/test.csv\n",
      "  sample_submission_path: ../../data/input/sample_submission.csv\n",
      "  mapping_path: ../../data/input/misconception_mapping.csv\n",
      "  output_root: ../../data/output\n",
      "  results_root: ../../results\n",
      "  results_path: ../../results/000/base\n",
      "seed: 42\n",
      "\n"
     ]
    }
   ],
   "source": [
    "import pickle\n",
    "import pprint\n",
    "from datetime import datetime\n",
    "from pathlib import Path\n",
    "\n",
    "import matplotlib.pyplot as plt\n",
    "import numpy as np\n",
    "import pandas as pd\n",
    "import polars as pl\n",
    "import pytz\n",
    "import seaborn as sns\n",
    "from omegaconf import OmegaConf\n",
    "from sklearn.model_selection import StratifiedKFold\n",
    "from sklearn.preprocessing import LabelEncoder\n",
    "\n",
    "from src.config import cfg\n",
    "from src.dir import create_dir\n",
    "from src.seed import seed_everything\n",
    "\n",
    "cfg.exp_number = Path().resolve().name\n",
    "print(OmegaConf.to_yaml(cfg, resolve=True))\n",
    "\n",
    "seed_everything(cfg.seed)\n"
   ]
  },
  {
   "cell_type": "markdown",
   "metadata": {},
   "source": [
    "### データの読み込み"
   ]
  },
  {
   "cell_type": "code",
   "execution_count": 2,
   "metadata": {},
   "outputs": [],
   "source": [
    "# データの読み込み\n",
    "train_df = pl.read_csv(cfg.data.train_path, try_parse_dates=True)\n",
    "test_df = pl.read_csv(cfg.data.test_path, try_parse_dates=True)\n",
    "sample_submission_df = pl.read_csv(cfg.data.sample_submission_path, try_parse_dates=True)\n",
    "mapping_df = pl.read_csv(cfg.data.mapping_path, try_parse_dates=True)\n",
    "\n",
    "# # データの結合\n",
    "# train_test_df = pl.concat([train_df, test_df], how=\"diagonal\")\n"
   ]
  },
  {
   "cell_type": "markdown",
   "metadata": {},
   "source": [
    "### train"
   ]
  },
  {
   "cell_type": "code",
   "execution_count": 3,
   "metadata": {},
   "outputs": [
    {
     "data": {
      "text/html": [
       "<div><style>\n",
       ".dataframe > thead > tr,\n",
       ".dataframe > tbody > tr {\n",
       "  text-align: right;\n",
       "  white-space: pre-wrap;\n",
       "}\n",
       "</style>\n",
       "<small>shape: (3, 15)</small><table border=\"1\" class=\"dataframe\"><thead><tr><th>QuestionId</th><th>ConstructId</th><th>ConstructName</th><th>SubjectId</th><th>SubjectName</th><th>CorrectAnswer</th><th>QuestionText</th><th>AnswerAText</th><th>AnswerBText</th><th>AnswerCText</th><th>AnswerDText</th><th>MisconceptionAId</th><th>MisconceptionBId</th><th>MisconceptionCId</th><th>MisconceptionDId</th></tr><tr><td>i64</td><td>i64</td><td>str</td><td>i64</td><td>str</td><td>str</td><td>str</td><td>str</td><td>str</td><td>str</td><td>str</td><td>f64</td><td>f64</td><td>f64</td><td>f64</td></tr></thead><tbody><tr><td>0</td><td>856</td><td>&quot;Use the order of operations to carry out calculations involving powers&quot;</td><td>33</td><td>&quot;BIDMAS&quot;</td><td>&quot;A&quot;</td><td>&quot;\\[\n",
       "3 \\times 2+4-5\n",
       "\\]\n",
       "Where do the brackets need to go to make the answer equal \\( 13 \\) ?&quot;</td><td>&quot;\\( 3 \\times(2+4)-5 \\)&quot;</td><td>&quot;\\( 3 \\times 2+(4-5) \\)&quot;</td><td>&quot;\\( 3 \\times(2+4-5) \\)&quot;</td><td>&quot;Does not need brackets&quot;</td><td>null</td><td>null</td><td>null</td><td>1672.0</td></tr><tr><td>1</td><td>1612</td><td>&quot;Simplify an algebraic fraction by factorising the numerator&quot;</td><td>1077</td><td>&quot;Simplifying Algebraic Fractions&quot;</td><td>&quot;D&quot;</td><td>&quot;Simplify the following, if possible: \\( \\frac{m^{2}+2 m-3}{m-3} \\)&quot;</td><td>&quot;\\( m+1 \\)&quot;</td><td>&quot;\\( m+2 \\)&quot;</td><td>&quot;\\( m-1 \\)&quot;</td><td>&quot;Does not simplify&quot;</td><td>2142.0</td><td>143.0</td><td>2142.0</td><td>null</td></tr><tr><td>2</td><td>2774</td><td>&quot;Calculate the range from a list of data&quot;</td><td>339</td><td>&quot;Range and Interquartile Range from a List of Data&quot;</td><td>&quot;B&quot;</td><td>&quot;Tom and Katie are discussing the \\( 5 \\) plants with these heights:\n",
       "\\( 24 \\mathrm{~cm}, 17 \\mathrm{~cm}, 42 \\mathrm{~cm}, 26 \\mathrm{~cm}, 13 \\mathrm{~cm} \\)\n",
       "Tom says if all the plants were cut in half, the range wouldn&#x27;t change.\n",
       "Katie says if all the plants grew by \\( 3 \\mathrm{~cm} \\) each, the range wouldn&#x27;t change.\n",
       "Who do you agree with?&quot;</td><td>&quot;Only\n",
       "Tom&quot;</td><td>&quot;Only\n",
       "Katie&quot;</td><td>&quot;Both Tom and Katie&quot;</td><td>&quot;Neither is correct&quot;</td><td>1287.0</td><td>null</td><td>1287.0</td><td>1073.0</td></tr></tbody></table></div>"
      ],
      "text/plain": [
       "shape: (3, 15)\n",
       "┌───────────┬───────────┬───────────┬───────────┬───┬───────────┬───────────┬───────────┬──────────┐\n",
       "│ QuestionI ┆ Construct ┆ Construct ┆ SubjectId ┆ … ┆ Misconcep ┆ Misconcep ┆ Misconcep ┆ Misconce │\n",
       "│ d         ┆ Id        ┆ Name      ┆ ---       ┆   ┆ tionAId   ┆ tionBId   ┆ tionCId   ┆ ptionDId │\n",
       "│ ---       ┆ ---       ┆ ---       ┆ i64       ┆   ┆ ---       ┆ ---       ┆ ---       ┆ ---      │\n",
       "│ i64       ┆ i64       ┆ str       ┆           ┆   ┆ f64       ┆ f64       ┆ f64       ┆ f64      │\n",
       "╞═══════════╪═══════════╪═══════════╪═══════════╪═══╪═══════════╪═══════════╪═══════════╪══════════╡\n",
       "│ 0         ┆ 856       ┆ Use the   ┆ 33        ┆ … ┆ null      ┆ null      ┆ null      ┆ 1672.0   │\n",
       "│           ┆           ┆ order of  ┆           ┆   ┆           ┆           ┆           ┆          │\n",
       "│           ┆           ┆ operation ┆           ┆   ┆           ┆           ┆           ┆          │\n",
       "│           ┆           ┆ s to      ┆           ┆   ┆           ┆           ┆           ┆          │\n",
       "│           ┆           ┆ carry out ┆           ┆   ┆           ┆           ┆           ┆          │\n",
       "│           ┆           ┆ calculati ┆           ┆   ┆           ┆           ┆           ┆          │\n",
       "│           ┆           ┆ ons       ┆           ┆   ┆           ┆           ┆           ┆          │\n",
       "│           ┆           ┆ involving ┆           ┆   ┆           ┆           ┆           ┆          │\n",
       "│           ┆           ┆ powers    ┆           ┆   ┆           ┆           ┆           ┆          │\n",
       "│ 1         ┆ 1612      ┆ Simplify  ┆ 1077      ┆ … ┆ 2142.0    ┆ 143.0     ┆ 2142.0    ┆ null     │\n",
       "│           ┆           ┆ an        ┆           ┆   ┆           ┆           ┆           ┆          │\n",
       "│           ┆           ┆ algebraic ┆           ┆   ┆           ┆           ┆           ┆          │\n",
       "│           ┆           ┆ fraction  ┆           ┆   ┆           ┆           ┆           ┆          │\n",
       "│           ┆           ┆ by factor ┆           ┆   ┆           ┆           ┆           ┆          │\n",
       "│           ┆           ┆ ising the ┆           ┆   ┆           ┆           ┆           ┆          │\n",
       "│           ┆           ┆ numerator ┆           ┆   ┆           ┆           ┆           ┆          │\n",
       "│ 2         ┆ 2774      ┆ Calculate ┆ 339       ┆ … ┆ 1287.0    ┆ null      ┆ 1287.0    ┆ 1073.0   │\n",
       "│           ┆           ┆ the range ┆           ┆   ┆           ┆           ┆           ┆          │\n",
       "│           ┆           ┆ from a    ┆           ┆   ┆           ┆           ┆           ┆          │\n",
       "│           ┆           ┆ list of   ┆           ┆   ┆           ┆           ┆           ┆          │\n",
       "│           ┆           ┆ data      ┆           ┆   ┆           ┆           ┆           ┆          │\n",
       "└───────────┴───────────┴───────────┴───────────┴───┴───────────┴───────────┴───────────┴──────────┘"
      ]
     },
     "execution_count": 3,
     "metadata": {},
     "output_type": "execute_result"
    }
   ],
   "source": [
    "pl.Config.set_fmt_str_lengths(1000)\n",
    "train_df.head(3)\n"
   ]
  },
  {
   "cell_type": "code",
   "execution_count": 4,
   "metadata": {},
   "outputs": [
    {
     "data": {
      "text/plain": [
       "(1869, 15)"
      ]
     },
     "execution_count": 4,
     "metadata": {},
     "output_type": "execute_result"
    }
   ],
   "source": [
    "train_df.shape\n"
   ]
  },
  {
   "cell_type": "code",
   "execution_count": 5,
   "metadata": {},
   "outputs": [
    {
     "data": {
      "text/plain": [
       "Schema([('QuestionId', Int64),\n",
       "        ('ConstructId', Int64),\n",
       "        ('ConstructName', String),\n",
       "        ('SubjectId', Int64),\n",
       "        ('SubjectName', String),\n",
       "        ('CorrectAnswer', String),\n",
       "        ('QuestionText', String),\n",
       "        ('AnswerAText', String),\n",
       "        ('AnswerBText', String),\n",
       "        ('AnswerCText', String),\n",
       "        ('AnswerDText', String),\n",
       "        ('MisconceptionAId', Float64),\n",
       "        ('MisconceptionBId', Float64),\n",
       "        ('MisconceptionCId', Float64),\n",
       "        ('MisconceptionDId', Float64)])"
      ]
     },
     "execution_count": 5,
     "metadata": {},
     "output_type": "execute_result"
    }
   ],
   "source": [
    "train_df.schema\n"
   ]
  },
  {
   "cell_type": "code",
   "execution_count": 6,
   "metadata": {},
   "outputs": [
    {
     "data": {
      "text/html": [
       "<div><style>\n",
       ".dataframe > thead > tr,\n",
       ".dataframe > tbody > tr {\n",
       "  text-align: right;\n",
       "  white-space: pre-wrap;\n",
       "}\n",
       "</style>\n",
       "<small>shape: (9, 16)</small><table border=\"1\" class=\"dataframe\"><thead><tr><th>statistic</th><th>QuestionId</th><th>ConstructId</th><th>ConstructName</th><th>SubjectId</th><th>SubjectName</th><th>CorrectAnswer</th><th>QuestionText</th><th>AnswerAText</th><th>AnswerBText</th><th>AnswerCText</th><th>AnswerDText</th><th>MisconceptionAId</th><th>MisconceptionBId</th><th>MisconceptionCId</th><th>MisconceptionDId</th></tr><tr><td>str</td><td>f64</td><td>f64</td><td>str</td><td>f64</td><td>str</td><td>str</td><td>str</td><td>str</td><td>str</td><td>str</td><td>str</td><td>f64</td><td>f64</td><td>f64</td><td>f64</td></tr></thead><tbody><tr><td>&quot;count&quot;</td><td>1869.0</td><td>1869.0</td><td>&quot;1869&quot;</td><td>1869.0</td><td>&quot;1869&quot;</td><td>&quot;1869&quot;</td><td>&quot;1869&quot;</td><td>&quot;1869&quot;</td><td>&quot;1869&quot;</td><td>&quot;1869&quot;</td><td>&quot;1869&quot;</td><td>1135.0</td><td>1118.0</td><td>1080.0</td><td>1037.0</td></tr><tr><td>&quot;null_count&quot;</td><td>0.0</td><td>0.0</td><td>&quot;0&quot;</td><td>0.0</td><td>&quot;0&quot;</td><td>&quot;0&quot;</td><td>&quot;0&quot;</td><td>&quot;0&quot;</td><td>&quot;0&quot;</td><td>&quot;0&quot;</td><td>&quot;0&quot;</td><td>734.0</td><td>751.0</td><td>789.0</td><td>832.0</td></tr><tr><td>&quot;mean&quot;</td><td>934.0</td><td>1613.261637</td><td>null</td><td>225.370787</td><td>null</td><td>null</td><td>null</td><td>null</td><td>null</td><td>null</td><td>null</td><td>1308.599119</td><td>1308.029517</td><td>1285.300926</td><td>1264.568949</td></tr><tr><td>&quot;std&quot;</td><td>539.678145</td><td>1060.591804</td><td>null</td><td>238.536233</td><td>null</td><td>null</td><td>null</td><td>null</td><td>null</td><td>null</td><td>null</td><td>744.51837</td><td>766.487351</td><td>742.212198</td><td>759.818341</td></tr><tr><td>&quot;min&quot;</td><td>0.0</td><td>4.0</td><td>&quot;Add algebraic fractions where one denominator is a multiple of the other&quot;</td><td>33.0</td><td>&quot;2D Names and Properties of Shapes-Others&quot;</td><td>&quot;A&quot;</td><td>&quot;![2 arrows pointing to the right. + 7 in the first arrow. divide by 2 in the second arrow]() The rule above is used to generate a term-to-term sequence.\n",
       "If the third term is \\( 9 \\), what is the first term?&quot;</td><td>&quot;![ Long multiplication for 72 multiplied by 36 with incorrect working and incorrect final answer. First row of working is incorrect: 4 2 2. Second row of working is incorrect: 2 7. Final answer is incorrect: 4 4 9.]()&quot;</td><td>&quot;![ Long multiplication for 72 multiplied by 36 with incorrect working and incorrect final answer. First row of working is correct: 4 3 2. Second row of working is incorrect: 2 1 6. Final answer is incorrect: 6 4 8.]()&quot;</td><td>&quot;![ Long multiplication for 72 multiplied by 36 with correct working and incorrect final answer. First row of working is correct: 4 3 2. Second row of working is correct: 2 1 6 0. Final answer is incorrect: 2 7 0 0.]()&quot;</td><td>&quot;![ Long multiplication for 72 multiplied by 36 with correct working and correct final answer. First row of working is correct: 4 3 2. Second row of working is correct: 2 1 6 0. Final answer is correct: 2 5 9 2.]()&quot;</td><td>1.0</td><td>1.0</td><td>2.0</td><td>0.0</td></tr><tr><td>&quot;25%&quot;</td><td>467.0</td><td>575.0</td><td>null</td><td>92.0</td><td>null</td><td>null</td><td>null</td><td>null</td><td>null</td><td>null</td><td>null</td><td>686.0</td><td>625.0</td><td>655.0</td><td>578.0</td></tr><tr><td>&quot;50%&quot;</td><td>934.0</td><td>1470.0</td><td>null</td><td>203.0</td><td>null</td><td>null</td><td>null</td><td>null</td><td>null</td><td>null</td><td>null</td><td>1336.0</td><td>1379.0</td><td>1295.0</td><td>1282.0</td></tr><tr><td>&quot;75%&quot;</td><td>1401.0</td><td>2637.0</td><td>null</td><td>238.0</td><td>null</td><td>null</td><td>null</td><td>null</td><td>null</td><td>null</td><td>null</td><td>1954.0</td><td>1970.0</td><td>1911.0</td><td>1897.0</td></tr><tr><td>&quot;max&quot;</td><td>1868.0</td><td>3526.0</td><td>&quot;Write the next term of an ascending integer linear sequence&quot;</td><td>1984.0</td><td>&quot;Written Subtraction&quot;</td><td>&quot;D&quot;</td><td>&quot;input \\(\\Rightarrow-3 \\Rightarrow \\times 3 \\Rightarrow 9a-21 \\) What is the input of this function machine?&quot;</td><td>&quot;£6&quot;</td><td>&quot;£4.80&quot;</td><td>&quot;£5.80&quot;</td><td>&quot;ССССССССС&quot;</td><td>2585.0</td><td>2586.0</td><td>2585.0</td><td>2583.0</td></tr></tbody></table></div>"
      ],
      "text/plain": [
       "shape: (9, 16)\n",
       "┌───────────┬───────────┬───────────┬───────────┬───┬───────────┬───────────┬───────────┬──────────┐\n",
       "│ statistic ┆ QuestionI ┆ Construct ┆ Construct ┆ … ┆ Misconcep ┆ Misconcep ┆ Misconcep ┆ Misconce │\n",
       "│ ---       ┆ d         ┆ Id        ┆ Name      ┆   ┆ tionAId   ┆ tionBId   ┆ tionCId   ┆ ptionDId │\n",
       "│ str       ┆ ---       ┆ ---       ┆ ---       ┆   ┆ ---       ┆ ---       ┆ ---       ┆ ---      │\n",
       "│           ┆ f64       ┆ f64       ┆ str       ┆   ┆ f64       ┆ f64       ┆ f64       ┆ f64      │\n",
       "╞═══════════╪═══════════╪═══════════╪═══════════╪═══╪═══════════╪═══════════╪═══════════╪══════════╡\n",
       "│ count     ┆ 1869.0    ┆ 1869.0    ┆ 1869      ┆ … ┆ 1135.0    ┆ 1118.0    ┆ 1080.0    ┆ 1037.0   │\n",
       "│ null_coun ┆ 0.0       ┆ 0.0       ┆ 0         ┆ … ┆ 734.0     ┆ 751.0     ┆ 789.0     ┆ 832.0    │\n",
       "│ t         ┆           ┆           ┆           ┆   ┆           ┆           ┆           ┆          │\n",
       "│ mean      ┆ 934.0     ┆ 1613.2616 ┆ null      ┆ … ┆ 1308.5991 ┆ 1308.0295 ┆ 1285.3009 ┆ 1264.568 │\n",
       "│           ┆           ┆ 37        ┆           ┆   ┆ 19        ┆ 17        ┆ 26        ┆ 949      │\n",
       "│ std       ┆ 539.67814 ┆ 1060.5918 ┆ null      ┆ … ┆ 744.51837 ┆ 766.48735 ┆ 742.21219 ┆ 759.8183 │\n",
       "│           ┆ 5         ┆ 04        ┆           ┆   ┆           ┆ 1         ┆ 8         ┆ 41       │\n",
       "│ min       ┆ 0.0       ┆ 4.0       ┆ Add       ┆ … ┆ 1.0       ┆ 1.0       ┆ 2.0       ┆ 0.0      │\n",
       "│           ┆           ┆           ┆ algebraic ┆   ┆           ┆           ┆           ┆          │\n",
       "│           ┆           ┆           ┆ fractions ┆   ┆           ┆           ┆           ┆          │\n",
       "│           ┆           ┆           ┆ where one ┆   ┆           ┆           ┆           ┆          │\n",
       "│           ┆           ┆           ┆ denominat ┆   ┆           ┆           ┆           ┆          │\n",
       "│           ┆           ┆           ┆ or is a   ┆   ┆           ┆           ┆           ┆          │\n",
       "│           ┆           ┆           ┆ multiple  ┆   ┆           ┆           ┆           ┆          │\n",
       "│           ┆           ┆           ┆ of the    ┆   ┆           ┆           ┆           ┆          │\n",
       "│           ┆           ┆           ┆ other     ┆   ┆           ┆           ┆           ┆          │\n",
       "│ 25%       ┆ 467.0     ┆ 575.0     ┆ null      ┆ … ┆ 686.0     ┆ 625.0     ┆ 655.0     ┆ 578.0    │\n",
       "│ 50%       ┆ 934.0     ┆ 1470.0    ┆ null      ┆ … ┆ 1336.0    ┆ 1379.0    ┆ 1295.0    ┆ 1282.0   │\n",
       "│ 75%       ┆ 1401.0    ┆ 2637.0    ┆ null      ┆ … ┆ 1954.0    ┆ 1970.0    ┆ 1911.0    ┆ 1897.0   │\n",
       "│ max       ┆ 1868.0    ┆ 3526.0    ┆ Write the ┆ … ┆ 2585.0    ┆ 2586.0    ┆ 2585.0    ┆ 2583.0   │\n",
       "│           ┆           ┆           ┆ next term ┆   ┆           ┆           ┆           ┆          │\n",
       "│           ┆           ┆           ┆ of an     ┆   ┆           ┆           ┆           ┆          │\n",
       "│           ┆           ┆           ┆ ascending ┆   ┆           ┆           ┆           ┆          │\n",
       "│           ┆           ┆           ┆ integer   ┆   ┆           ┆           ┆           ┆          │\n",
       "│           ┆           ┆           ┆ linear    ┆   ┆           ┆           ┆           ┆          │\n",
       "│           ┆           ┆           ┆ sequence  ┆   ┆           ┆           ┆           ┆          │\n",
       "└───────────┴───────────┴───────────┴───────────┴───┴───────────┴───────────┴───────────┴──────────┘"
      ]
     },
     "execution_count": 6,
     "metadata": {},
     "output_type": "execute_result"
    }
   ],
   "source": [
    "train_df.describe()\n"
   ]
  },
  {
   "cell_type": "code",
   "execution_count": 7,
   "metadata": {},
   "outputs": [
    {
     "data": {
      "text/html": [
       "<div><style>\n",
       ".dataframe > thead > tr,\n",
       ".dataframe > tbody > tr {\n",
       "  text-align: right;\n",
       "  white-space: pre-wrap;\n",
       "}\n",
       "</style>\n",
       "<small>shape: (1, 15)</small><table border=\"1\" class=\"dataframe\"><thead><tr><th>QuestionId</th><th>ConstructId</th><th>ConstructName</th><th>SubjectId</th><th>SubjectName</th><th>CorrectAnswer</th><th>QuestionText</th><th>AnswerAText</th><th>AnswerBText</th><th>AnswerCText</th><th>AnswerDText</th><th>MisconceptionAId</th><th>MisconceptionBId</th><th>MisconceptionCId</th><th>MisconceptionDId</th></tr><tr><td>u32</td><td>u32</td><td>u32</td><td>u32</td><td>u32</td><td>u32</td><td>u32</td><td>u32</td><td>u32</td><td>u32</td><td>u32</td><td>u32</td><td>u32</td><td>u32</td><td>u32</td></tr></thead><tbody><tr><td>1869</td><td>757</td><td>757</td><td>163</td><td>163</td><td>4</td><td>1857</td><td>1219</td><td>1230</td><td>1222</td><td>1184</td><td>741</td><td>728</td><td>696</td><td>674</td></tr></tbody></table></div>"
      ],
      "text/plain": [
       "shape: (1, 15)\n",
       "┌───────────┬───────────┬───────────┬───────────┬───┬───────────┬───────────┬───────────┬──────────┐\n",
       "│ QuestionI ┆ Construct ┆ Construct ┆ SubjectId ┆ … ┆ Misconcep ┆ Misconcep ┆ Misconcep ┆ Misconce │\n",
       "│ d         ┆ Id        ┆ Name      ┆ ---       ┆   ┆ tionAId   ┆ tionBId   ┆ tionCId   ┆ ptionDId │\n",
       "│ ---       ┆ ---       ┆ ---       ┆ u32       ┆   ┆ ---       ┆ ---       ┆ ---       ┆ ---      │\n",
       "│ u32       ┆ u32       ┆ u32       ┆           ┆   ┆ u32       ┆ u32       ┆ u32       ┆ u32      │\n",
       "╞═══════════╪═══════════╪═══════════╪═══════════╪═══╪═══════════╪═══════════╪═══════════╪══════════╡\n",
       "│ 1869      ┆ 757       ┆ 757       ┆ 163       ┆ … ┆ 741       ┆ 728       ┆ 696       ┆ 674      │\n",
       "└───────────┴───────────┴───────────┴───────────┴───┴───────────┴───────────┴───────────┴──────────┘"
      ]
     },
     "execution_count": 7,
     "metadata": {},
     "output_type": "execute_result"
    }
   ],
   "source": [
    "train_df.select(pl.all().n_unique())\n"
   ]
  },
  {
   "cell_type": "markdown",
   "metadata": {},
   "source": [
    "### misconception_mappingにtrainの情報を追加\n",
    "- SubjectNameの情報を追加"
   ]
  },
  {
   "cell_type": "code",
   "execution_count": 8,
   "metadata": {},
   "outputs": [],
   "source": [
    "sub_a_df = (\n",
    "    train_df.group_by(\"MisconceptionAId\")\n",
    "    .agg(pl.col(\"SubjectName\").unique().alias(\"SubjectName_A\"))\n",
    "    .sort(\"MisconceptionAId\")\n",
    "    .rename({\"MisconceptionAId\": \"MisconceptionId\"})\n",
    "    .with_columns(pl.col(\"MisconceptionId\").cast(pl.Int64))\n",
    ")\n",
    "sub_b_df = (\n",
    "    train_df.group_by(\"MisconceptionBId\")\n",
    "    .agg(pl.col(\"SubjectName\").unique().alias(\"SubjectName_B\"))\n",
    "    .sort(\"MisconceptionBId\")\n",
    "    .rename({\"MisconceptionBId\": \"MisconceptionId\"})\n",
    "    .with_columns(pl.col(\"MisconceptionId\").cast(pl.Int64))\n",
    ")\n",
    "sub_c_df = (\n",
    "    train_df.group_by(\"MisconceptionCId\")\n",
    "    .agg(pl.col(\"SubjectName\").unique().alias(\"SubjectName_C\"))\n",
    "    .sort(\"MisconceptionCId\")\n",
    "    .rename({\"MisconceptionCId\": \"MisconceptionId\"})\n",
    "    .with_columns(pl.col(\"MisconceptionId\").cast(pl.Int64))\n",
    ")\n",
    "sub_d_df = (\n",
    "    train_df.group_by(\"MisconceptionDId\")\n",
    "    .agg(pl.col(\"SubjectName\").unique().alias(\"SubjectName_D\"))\n",
    "    .sort(\"MisconceptionDId\")\n",
    "    .rename({\"MisconceptionDId\": \"MisconceptionId\"})\n",
    "    .with_columns(pl.col(\"MisconceptionId\").cast(pl.Int64))\n",
    ")\n"
   ]
  },
  {
   "cell_type": "code",
   "execution_count": 9,
   "metadata": {},
   "outputs": [],
   "source": [
    "mis_id_series = mapping_df.select(\"MisconceptionId\")\n",
    "mis_id_and_subject_name_df = (\n",
    "    mis_id_series.join(sub_a_df, on=\"MisconceptionId\", how=\"left\")\n",
    "    .join(sub_b_df, on=\"MisconceptionId\", how=\"left\")\n",
    "    .join(sub_c_df, on=\"MisconceptionId\", how=\"left\")\n",
    "    .join(sub_d_df, on=\"MisconceptionId\", how=\"left\")\n",
    "    .with_columns(\n",
    "        pl.all().exclude(\"MisconceptionId\").fill_null([]),\n",
    "    )\n",
    "    .with_columns(pl.col(\"SubjectName_A\").list.concat(\"SubjectName_B\").alias(\"SubjectNames\"))\n",
    "    .with_columns(pl.col(\"SubjectNames\").list.concat(\"SubjectName_C\").alias(\"SubjectNames\"))\n",
    "    .with_columns(pl.col(\"SubjectNames\").list.concat(\"SubjectName_D\").alias(\"SubjectNames\"))\n",
    "    .with_columns(pl.col(\"SubjectNames\").list.unique())\n",
    "    .select(\"MisconceptionId\", \"SubjectNames\")\n",
    ")\n"
   ]
  },
  {
   "cell_type": "code",
   "execution_count": 10,
   "metadata": {},
   "outputs": [
    {
     "data": {
      "text/html": [
       "<div><style>\n",
       ".dataframe > thead > tr,\n",
       ".dataframe > tbody > tr {\n",
       "  text-align: right;\n",
       "  white-space: pre-wrap;\n",
       "}\n",
       "</style>\n",
       "<small>shape: (2_587, 3)</small><table border=\"1\" class=\"dataframe\"><thead><tr><th>MisconceptionId</th><th>MisconceptionName</th><th>SubjectNames</th></tr><tr><td>i64</td><td>str</td><td>list[str]</td></tr></thead><tbody><tr><td>0</td><td>&quot;Does not know that angles in a triangle sum to 180 degrees&quot;</td><td>[&quot;Angles in Triangles&quot;]</td></tr><tr><td>1</td><td>&quot;Uses dividing fractions method for multiplying fractions&quot;</td><td>[&quot;Multiplying Fractions&quot;, &quot;Multiplying and Dividing Negative Numbers&quot;]</td></tr><tr><td>2</td><td>&quot;Believes there are 100 degrees in a full turn&quot;</td><td>[&quot;Types, Naming and Estimating&quot;, &quot;Measuring Angles&quot;]</td></tr><tr><td>3</td><td>&quot;Thinks a quadratic without a non variable term, can not be factorised&quot;</td><td>[&quot;Factorising into a Single Bracket&quot;]</td></tr><tr><td>4</td><td>&quot;Believes addition of terms and powers of terms are equivalent e.g. a + c = a^c&quot;</td><td>[&quot;Simplifying Expressions by Collecting Like Terms&quot;]</td></tr><tr><td>&hellip;</td><td>&hellip;</td><td>&hellip;</td></tr><tr><td>2582</td><td>&quot;When multiplying numbers with the same base, multiplies the powers &quot;</td><td>[]</td></tr><tr><td>2583</td><td>&quot;Does not know what a cube number is&quot;</td><td>[&quot;Squares, Cubes, etc&quot;, &quot;Square Roots, Cube Roots, etc&quot;]</td></tr><tr><td>2584</td><td>&quot;Believes that any percentage of a larger number will be greater than any percentage of a smaller number&quot;</td><td>[]</td></tr><tr><td>2585</td><td>&quot;Believes a cubic expression should have three terms&quot;</td><td>[&quot;Expanding Triple Brackets and more&quot;]</td></tr><tr><td>2586</td><td>&quot;Misunderstands order of operations in algebraic expressions&quot;</td><td>[&quot;Rearranging Formula and Equations&quot;]</td></tr></tbody></table></div>"
      ],
      "text/plain": [
       "shape: (2_587, 3)\n",
       "┌─────────────────┬────────────────────────────────────────┬───────────────────────────────────────┐\n",
       "│ MisconceptionId ┆ MisconceptionName                      ┆ SubjectNames                          │\n",
       "│ ---             ┆ ---                                    ┆ ---                                   │\n",
       "│ i64             ┆ str                                    ┆ list[str]                             │\n",
       "╞═════════════════╪════════════════════════════════════════╪═══════════════════════════════════════╡\n",
       "│ 0               ┆ Does not know that angles in a         ┆ [\"Angles in Triangles\"]               │\n",
       "│                 ┆ triangle sum to 180 degrees            ┆                                       │\n",
       "│ 1               ┆ Uses dividing fractions method for     ┆ [\"Multiplying Fractions\",             │\n",
       "│                 ┆ multiplying fractions                  ┆ \"Multiplying and Dividing Negative    │\n",
       "│                 ┆                                        ┆ Numbers\"]                             │\n",
       "│ 2               ┆ Believes there are 100 degrees in a    ┆ [\"Types, Naming and Estimating\",      │\n",
       "│                 ┆ full turn                              ┆ \"Measuring Angles\"]                   │\n",
       "│ 3               ┆ Thinks a quadratic without a non       ┆ [\"Factorising into a Single Bracket\"] │\n",
       "│                 ┆ variable term, can not be factorised   ┆                                       │\n",
       "│ 4               ┆ Believes addition of terms and powers  ┆ [\"Simplifying Expressions by          │\n",
       "│                 ┆ of terms are equivalent e.g. a + c =   ┆ Collecting Like Terms\"]               │\n",
       "│                 ┆ a^c                                    ┆                                       │\n",
       "│ …               ┆ …                                      ┆ …                                     │\n",
       "│ 2582            ┆ When multiplying numbers with the same ┆ []                                    │\n",
       "│                 ┆ base, multiplies the powers            ┆                                       │\n",
       "│ 2583            ┆ Does not know what a cube number is    ┆ [\"Squares, Cubes, etc\", \"Square       │\n",
       "│                 ┆                                        ┆ Roots, Cube Roots, etc\"]              │\n",
       "│ 2584            ┆ Believes that any percentage of a      ┆ []                                    │\n",
       "│                 ┆ larger number will be greater than any ┆                                       │\n",
       "│                 ┆ percentage of a smaller number         ┆                                       │\n",
       "│ 2585            ┆ Believes a cubic expression should     ┆ [\"Expanding Triple Brackets and       │\n",
       "│                 ┆ have three terms                       ┆ more\"]                                │\n",
       "│ 2586            ┆ Misunderstands order of operations in  ┆ [\"Rearranging Formula and Equations\"] │\n",
       "│                 ┆ algebraic expressions                  ┆                                       │\n",
       "└─────────────────┴────────────────────────────────────────┴───────────────────────────────────────┘"
      ]
     },
     "execution_count": 10,
     "metadata": {},
     "output_type": "execute_result"
    }
   ],
   "source": [
    "# misconception_dfと結合\n",
    "mapping_meta_df = mapping_df.join(mis_id_and_subject_name_df, on=\"MisconceptionId\", how=\"left\")\n",
    "\n",
    "mapping_meta_df\n"
   ]
  },
  {
   "cell_type": "code",
   "execution_count": 11,
   "metadata": {},
   "outputs": [
    {
     "name": "stdout",
     "output_type": "stream",
     "text": [
      "[]\n"
     ]
    }
   ],
   "source": [
    "tmp = mapping_meta_df.get_column(\"SubjectNames\").to_numpy()[5]\n",
    "print(tmp)\n",
    "\n",
    "for subject_name in tmp:\n",
    "    print(subject_name)\n",
    "\n",
    "# Jinja2フォーマットで条件を設定したら[]のときはプロンプトを変更できそう\n"
   ]
  },
  {
   "cell_type": "code",
   "execution_count": 12,
   "metadata": {},
   "outputs": [],
   "source": [
    "# TODO: 同じ要領でConstructNameが対応しているかの情報を追加しておく\n"
   ]
  }
 ],
 "metadata": {
  "kernelspec": {
   "display_name": ".venv",
   "language": "python",
   "name": "python3"
  },
  "language_info": {
   "codemirror_mode": {
    "name": "ipython",
    "version": 3
   },
   "file_extension": ".py",
   "mimetype": "text/x-python",
   "name": "python",
   "nbconvert_exporter": "python",
   "pygments_lexer": "ipython3",
   "version": "3.12.3"
  }
 },
 "nbformat": 4,
 "nbformat_minor": 2
}
