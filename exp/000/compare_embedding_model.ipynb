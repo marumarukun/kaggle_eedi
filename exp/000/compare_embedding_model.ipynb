{
 "cells": [
  {
   "cell_type": "code",
   "execution_count": 10,
   "metadata": {},
   "outputs": [
    {
     "name": "stdout",
     "output_type": "stream",
     "text": [
      "exp_number: '000'\n",
      "run_time: base\n",
      "data:\n",
      "  input_root: ../../data/input\n",
      "  train_path: ../../data/input/train.csv\n",
      "  test_path: ../../data/input/test.csv\n",
      "  sample_submission_path: ../../data/input/sample_submission.csv\n",
      "  mapping_path: ../../data/input/misconception_mapping.csv\n",
      "  output_root: ../../data/output\n",
      "  results_root: ../../results\n",
      "  results_path: ../../results/000/base\n",
      "seed: 42\n",
      "\n"
     ]
    }
   ],
   "source": [
    "import pickle\n",
    "import pprint\n",
    "from datetime import datetime\n",
    "from pathlib import Path\n",
    "\n",
    "import matplotlib.pyplot as plt\n",
    "import numpy as np\n",
    "import pandas as pd\n",
    "import polars as pl\n",
    "import pytz\n",
    "import seaborn as sns\n",
    "from omegaconf import OmegaConf\n",
    "from sklearn.model_selection import StratifiedKFold\n",
    "from sklearn.preprocessing import LabelEncoder\n",
    "\n",
    "from src.config import cfg\n",
    "from src.data import add_subject_name_info\n",
    "from src.dir import create_dir\n",
    "from src.seed import seed_everything\n",
    "\n",
    "cfg.exp_number = Path().resolve().name\n",
    "print(OmegaConf.to_yaml(cfg, resolve=True))\n",
    "\n",
    "seed_everything(cfg.seed)\n"
   ]
  },
  {
   "cell_type": "markdown",
   "metadata": {},
   "source": [
    "### データの読み込み"
   ]
  },
  {
   "cell_type": "code",
   "execution_count": 11,
   "metadata": {},
   "outputs": [],
   "source": [
    "# データの読み込み\n",
    "train_df = pl.read_csv(cfg.data.train_path, try_parse_dates=True)\n",
    "test_df = pl.read_csv(cfg.data.test_path, try_parse_dates=True)\n",
    "sample_submission_df = pl.read_csv(cfg.data.sample_submission_path, try_parse_dates=True)\n",
    "mapping_df = pl.read_csv(cfg.data.mapping_path, try_parse_dates=True)\n",
    "\n",
    "# CV\n",
    "skf = StratifiedKFold(n_splits=5, shuffle=True, random_state=cfg.seed)\n"
   ]
  },
  {
   "cell_type": "code",
   "execution_count": 5,
   "metadata": {},
   "outputs": [],
   "source": [
    "# TODO: 比較したい埋め込みモデルをここに追加していく\n",
    "MODEL_NAME = \"BAAI/bge-large-en-v1.5\"\n",
    "MODEL_NAME = \"BAAI/bge-large-en-v1.5\"\n",
    "MODEL_NAME = \"BAAI/bge-large-en-v1.5\"\n",
    "\n",
    "\n",
    "# TODO: model毎に処理が違う場合はここに追加\n"
   ]
  },
  {
   "cell_type": "code",
   "execution_count": 13,
   "metadata": {},
   "outputs": [
    {
     "name": "stderr",
     "output_type": "stream",
     "text": [
      "/home/marumarukun/pj/compe/kaggle_eedi/.venv/lib/python3.12/site-packages/sklearn/model_selection/_split.py:776: UserWarning: The least populated class in y has only 1 members, which is less than n_splits=5.\n",
      "  warnings.warn(\n"
     ]
    },
    {
     "name": "stdout",
     "output_type": "stream",
     "text": [
      "(1495,) (374,)\n",
      "(1495,) (374,)\n",
      "(1495,) (374,)\n",
      "(1495,) (374,)\n",
      "(1496,) (373,)\n",
      "モデル: BAAI/bge-large-en-v1.5\n",
      "CVスコア: 0.0\n"
     ]
    }
   ],
   "source": [
    "cv_scores = []\n",
    "for train_idx, valid_idx in skf.split(train_df, train_df[\"SubjectName\"]):\n",
    "    # train_dfの分割\n",
    "    train = train_df[train_idx]\n",
    "    valid = train_df[valid_idx]\n",
    "\n",
    "    # trainのSubjectName情報をmapping_dfに追加\n",
    "    mapping_meta = add_subject_name_info(train, mapping_df)\n",
    "\n",
    "    # TODO: trainを整形(gtがあるのでtestとは処理が違うの注意)\n",
    "\n",
    "    # TODO: 埋め込みモデルでTOP50を抽出\n",
    "\n",
    "    # TODO: TOP50の中にgtがあるか確認\n",
    "    is_gt_in_top50 = [False]  # or True\n",
    "\n",
    "    # TODO: 平均をとってそれをCVスコアとする\n",
    "    avg_score = np.mean(is_gt_in_top50)\n",
    "    cv_scores.append(avg_score)\n",
    "\n",
    "print(f\"モデル: {MODEL_NAME}\")\n",
    "print(f\"CVスコア: {np.mean(cv_scores)}\")\n"
   ]
  },
  {
   "cell_type": "code",
   "execution_count": 14,
   "metadata": {},
   "outputs": [
    {
     "data": {
      "text/html": [
       "<div><style>\n",
       ".dataframe > thead > tr,\n",
       ".dataframe > tbody > tr {\n",
       "  text-align: right;\n",
       "  white-space: pre-wrap;\n",
       "}\n",
       "</style>\n",
       "<small>shape: (5, 15)</small><table border=\"1\" class=\"dataframe\"><thead><tr><th>QuestionId</th><th>ConstructId</th><th>ConstructName</th><th>SubjectId</th><th>SubjectName</th><th>CorrectAnswer</th><th>QuestionText</th><th>AnswerAText</th><th>AnswerBText</th><th>AnswerCText</th><th>AnswerDText</th><th>MisconceptionAId</th><th>MisconceptionBId</th><th>MisconceptionCId</th><th>MisconceptionDId</th></tr><tr><td>i64</td><td>i64</td><td>str</td><td>i64</td><td>str</td><td>str</td><td>str</td><td>str</td><td>str</td><td>str</td><td>str</td><td>f64</td><td>f64</td><td>f64</td><td>f64</td></tr></thead><tbody><tr><td>0</td><td>856</td><td>&quot;Use the order of operations to…</td><td>33</td><td>&quot;BIDMAS&quot;</td><td>&quot;A&quot;</td><td>&quot;\\[\n",
       "3 \\times 2+4-5\n",
       "\\]\n",
       "Where do …</td><td>&quot;\\( 3 \\times(2+4)-5 \\)&quot;</td><td>&quot;\\( 3 \\times 2+(4-5) \\)&quot;</td><td>&quot;\\( 3 \\times(2+4-5) \\)&quot;</td><td>&quot;Does not need brackets&quot;</td><td>null</td><td>null</td><td>null</td><td>1672.0</td></tr><tr><td>1</td><td>1612</td><td>&quot;Simplify an algebraic fraction…</td><td>1077</td><td>&quot;Simplifying Algebraic Fraction…</td><td>&quot;D&quot;</td><td>&quot;Simplify the following, if pos…</td><td>&quot;\\( m+1 \\)&quot;</td><td>&quot;\\( m+2 \\)&quot;</td><td>&quot;\\( m-1 \\)&quot;</td><td>&quot;Does not simplify&quot;</td><td>2142.0</td><td>143.0</td><td>2142.0</td><td>null</td></tr><tr><td>3</td><td>2377</td><td>&quot;Recall and use the intersectin…</td><td>88</td><td>&quot;Properties of Quadrilaterals&quot;</td><td>&quot;C&quot;</td><td>&quot;The angles highlighted on this…</td><td>&quot;acute&quot;</td><td>&quot;obtuse&quot;</td><td>&quot;\\( 90^{\\circ} \\)&quot;</td><td>&quot;Not enough information&quot;</td><td>1180.0</td><td>1180.0</td><td>null</td><td>1180.0</td></tr><tr><td>4</td><td>3387</td><td>&quot;Substitute positive integer va…</td><td>67</td><td>&quot;Substitution into Formula&quot;</td><td>&quot;A&quot;</td><td>&quot;The equation \\( f=3 r^{2}+3 \\)…</td><td>&quot;\\( 30 \\)&quot;</td><td>&quot;\\( 27 \\)&quot;</td><td>&quot;\\( 51 \\)&quot;</td><td>&quot;\\( 24 \\)&quot;</td><td>null</td><td>null</td><td>null</td><td>1818.0</td></tr><tr><td>5</td><td>2052</td><td>&quot;Identify a unit of area&quot;</td><td>75</td><td>&quot;Area of Simple Shapes&quot;</td><td>&quot;D&quot;</td><td>&quot;James has answered a question …</td><td>&quot;\\( m \\)&quot;</td><td>&quot;\\( \\mathrm{cm} \\)&quot;</td><td>&quot;\\( \\mathrm{km}^{3} \\)&quot;</td><td>&quot;\\( \\mathrm{mm}^{2} \\)&quot;</td><td>686.0</td><td>686.0</td><td>686.0</td><td>null</td></tr></tbody></table></div>"
      ],
      "text/plain": [
       "shape: (5, 15)\n",
       "┌───────────┬───────────┬───────────┬───────────┬───┬───────────┬───────────┬───────────┬──────────┐\n",
       "│ QuestionI ┆ Construct ┆ Construct ┆ SubjectId ┆ … ┆ Misconcep ┆ Misconcep ┆ Misconcep ┆ Misconce │\n",
       "│ d         ┆ Id        ┆ Name      ┆ ---       ┆   ┆ tionAId   ┆ tionBId   ┆ tionCId   ┆ ptionDId │\n",
       "│ ---       ┆ ---       ┆ ---       ┆ i64       ┆   ┆ ---       ┆ ---       ┆ ---       ┆ ---      │\n",
       "│ i64       ┆ i64       ┆ str       ┆           ┆   ┆ f64       ┆ f64       ┆ f64       ┆ f64      │\n",
       "╞═══════════╪═══════════╪═══════════╪═══════════╪═══╪═══════════╪═══════════╪═══════════╪══════════╡\n",
       "│ 0         ┆ 856       ┆ Use the   ┆ 33        ┆ … ┆ null      ┆ null      ┆ null      ┆ 1672.0   │\n",
       "│           ┆           ┆ order of  ┆           ┆   ┆           ┆           ┆           ┆          │\n",
       "│           ┆           ┆ operation ┆           ┆   ┆           ┆           ┆           ┆          │\n",
       "│           ┆           ┆ s to…     ┆           ┆   ┆           ┆           ┆           ┆          │\n",
       "│ 1         ┆ 1612      ┆ Simplify  ┆ 1077      ┆ … ┆ 2142.0    ┆ 143.0     ┆ 2142.0    ┆ null     │\n",
       "│           ┆           ┆ an        ┆           ┆   ┆           ┆           ┆           ┆          │\n",
       "│           ┆           ┆ algebraic ┆           ┆   ┆           ┆           ┆           ┆          │\n",
       "│           ┆           ┆ fraction… ┆           ┆   ┆           ┆           ┆           ┆          │\n",
       "│ 3         ┆ 2377      ┆ Recall    ┆ 88        ┆ … ┆ 1180.0    ┆ 1180.0    ┆ null      ┆ 1180.0   │\n",
       "│           ┆           ┆ and use   ┆           ┆   ┆           ┆           ┆           ┆          │\n",
       "│           ┆           ┆ the inter ┆           ┆   ┆           ┆           ┆           ┆          │\n",
       "│           ┆           ┆ sectin…   ┆           ┆   ┆           ┆           ┆           ┆          │\n",
       "│ 4         ┆ 3387      ┆ Substitut ┆ 67        ┆ … ┆ null      ┆ null      ┆ null      ┆ 1818.0   │\n",
       "│           ┆           ┆ e         ┆           ┆   ┆           ┆           ┆           ┆          │\n",
       "│           ┆           ┆ positive  ┆           ┆   ┆           ┆           ┆           ┆          │\n",
       "│           ┆           ┆ integer   ┆           ┆   ┆           ┆           ┆           ┆          │\n",
       "│           ┆           ┆ va…       ┆           ┆   ┆           ┆           ┆           ┆          │\n",
       "│ 5         ┆ 2052      ┆ Identify  ┆ 75        ┆ … ┆ 686.0     ┆ 686.0     ┆ 686.0     ┆ null     │\n",
       "│           ┆           ┆ a unit of ┆           ┆   ┆           ┆           ┆           ┆          │\n",
       "│           ┆           ┆ area      ┆           ┆   ┆           ┆           ┆           ┆          │\n",
       "└───────────┴───────────┴───────────┴───────────┴───┴───────────┴───────────┴───────────┴──────────┘"
      ]
     },
     "execution_count": 14,
     "metadata": {},
     "output_type": "execute_result"
    }
   ],
   "source": [
    "train.head()\n"
   ]
  }
 ],
 "metadata": {
  "kernelspec": {
   "display_name": ".venv",
   "language": "python",
   "name": "python3"
  },
  "language_info": {
   "codemirror_mode": {
    "name": "ipython",
    "version": 3
   },
   "file_extension": ".py",
   "mimetype": "text/x-python",
   "name": "python",
   "nbconvert_exporter": "python",
   "pygments_lexer": "ipython3",
   "version": "3.12.3"
  }
 },
 "nbformat": 4,
 "nbformat_minor": 2
}
