{
 "cells": [
  {
   "cell_type": "code",
   "execution_count": 1,
   "metadata": {},
   "outputs": [
    {
     "name": "stderr",
     "output_type": "stream",
     "text": [
      "/home/marumarukun/pj/compe/kaggle_eedi/.venv/lib/python3.12/site-packages/sentence_transformers/cross_encoder/CrossEncoder.py:13: TqdmWarning: IProgress not found. Please update jupyter and ipywidgets. See https://ipywidgets.readthedocs.io/en/stable/user_install.html\n",
      "  from tqdm.autonotebook import tqdm, trange\n"
     ]
    },
    {
     "name": "stdout",
     "output_type": "stream",
     "text": [
      "exp_number: '000'\n",
      "run_time: base\n",
      "data:\n",
      "  input_root: ../../data/input\n",
      "  train_path: ../../data/input/train.csv\n",
      "  test_path: ../../data/input/test.csv\n",
      "  sample_submission_path: ../../data/input/sample_submission.csv\n",
      "  mapping_path: ../../data/input/misconception_mapping.csv\n",
      "  output_root: ../../data/output\n",
      "  results_root: ../../results\n",
      "  results_path: ../../results/000/base\n",
      "seed: 42\n",
      "k: 50\n",
      "\n"
     ]
    }
   ],
   "source": [
    "import pickle\n",
    "import pprint\n",
    "from datetime import datetime\n",
    "from pathlib import Path\n",
    "\n",
    "import matplotlib.pyplot as plt\n",
    "import numpy as np\n",
    "import pandas as pd\n",
    "import polars as pl\n",
    "import pytz\n",
    "import seaborn as sns\n",
    "from omegaconf import OmegaConf\n",
    "from sentence_transformers import SentenceTransformer, util\n",
    "from sklearn.model_selection import GroupKFold\n",
    "\n",
    "from src.config import cfg\n",
    "from src.data import add_subject_name_info, preprocess_train\n",
    "from src.dir import create_dir\n",
    "from src.seed import seed_everything\n",
    "\n",
    "cfg.exp_number = Path().resolve().name\n",
    "print(OmegaConf.to_yaml(cfg, resolve=True))\n",
    "\n",
    "seed_everything(cfg.seed)\n"
   ]
  },
  {
   "cell_type": "markdown",
   "metadata": {},
   "source": [
    "### データの読み込み"
   ]
  },
  {
   "cell_type": "code",
   "execution_count": 2,
   "metadata": {},
   "outputs": [],
   "source": [
    "# データの読み込み\n",
    "train_df = pl.read_csv(cfg.data.train_path, try_parse_dates=True)\n",
    "test_df = pl.read_csv(cfg.data.test_path, try_parse_dates=True)\n",
    "sample_submission_df = pl.read_csv(cfg.data.sample_submission_path, try_parse_dates=True)\n",
    "mapping_df = pl.read_csv(cfg.data.mapping_path, try_parse_dates=True)\n",
    "\n",
    "# CV\n",
    "gkf = GroupKFold(n_splits=5)\n"
   ]
  },
  {
   "cell_type": "code",
   "execution_count": 3,
   "metadata": {},
   "outputs": [],
   "source": [
    "# 比較したい埋め込みモデルをここに追加していく(MTEBランクは2024/11/09時点)\n",
    "model_names = [\n",
    "    \"../../data/Joseph-Eedi-finetuned-bge\",  # kaggle codeから拝借してきたモデル\n",
    "    # https://www.kaggle.com/code/takanashihumbert/eedi-qwen-2-5-32b-awq-two-time-retrieval\n",
    "    \"BAAI/bge-large-en-v1.5\",  # MTEB rank: 42, Model size: 335(Million parameters)\n",
    "    \"dunzhang/stella_en_400M_v5\",  # MTEB rank: 6, Model size: 435(Million parameters)\n",
    "    # \"dunzhang/stella_en_1.5B_v5\",  # MTEB rank: 3, Model size: 1543(Million parameters)\n",
    "    \"Alibaba-NLP/gte-large-en-v1.5\",  # MTEB rank: 28, Model size: 434(Million parameters)\n",
    "    \"jinaai/jina-embeddings-v3\",  # MTEB rank: 25, Model size: 572(Million parameters)\n",
    "]\n",
    "task = \"text-matching\"  # jina-embeddings-v3にはtaskが必要そう\n",
    "\n",
    "# NOTE: ローカルでは動作しないので、stella_en_1.5B_v5は一旦除外\n",
    "\n",
    "\n",
    "# # modelのロードと埋め込みができるか試す\n",
    "# for model_name in model_names:\n",
    "#     model = SentenceTransformer(model_name, trust_remote_code=True)\n",
    "#     print(f\"モデル: {model_name} ロードOK\")\n",
    "#     embed_trial = model.encode(train_df[\"SubjectName\"].to_list()[:5], normalize_embeddings=True)\n",
    "#     print(f\"{model_name} 埋め込みテストOK\\n\")\n"
   ]
  },
  {
   "cell_type": "code",
   "execution_count": 5,
   "metadata": {},
   "outputs": [
    {
     "name": "stdout",
     "output_type": "stream",
     "text": [
      "topk: 50\n"
     ]
    }
   ],
   "source": [
    "print(f\"topk: {cfg.k}\")\n"
   ]
  },
  {
   "cell_type": "code",
   "execution_count": 4,
   "metadata": {},
   "outputs": [
    {
     "name": "stdout",
     "output_type": "stream",
     "text": [
      "モデル: ../../data/Joseph-Eedi-finetuned-bge\n",
      "Fold 1: 0.919327251995439\n",
      "Fold 2: 0.9218213058419243\n",
      "Fold 3: 0.9251934651762683\n",
      "Fold 4: 0.9172867773325701\n",
      "Fold 5: 0.9156419788390049\n",
      "CVスコア: 0.9198541558370413\n",
      "\n",
      "モデル: BAAI/bge-large-en-v1.5\n",
      "Fold 1: 0.8563283922462942\n",
      "Fold 2: 0.8528064146620847\n",
      "Fold 3: 0.8512467755803955\n",
      "Fold 4: 0.8611906124785347\n",
      "Fold 5: 0.8613096940234487\n",
      "CVスコア: 0.8565763777981517\n",
      "\n",
      "モデル: dunzhang/stella_en_400M_v5\n"
     ]
    },
    {
     "name": "stderr",
     "output_type": "stream",
     "text": [
      "/home/marumarukun/pj/compe/kaggle_eedi/.venv/lib/python3.12/site-packages/xformers/ops/fmha/flash.py:211: FutureWarning: `torch.library.impl_abstract` was renamed to `torch.library.register_fake`. Please use that instead; we will remove `torch.library.impl_abstract` in a future version of PyTorch.\n",
      "  @torch.library.impl_abstract(\"xformers_flash::flash_fwd\")\n",
      "/home/marumarukun/pj/compe/kaggle_eedi/.venv/lib/python3.12/site-packages/xformers/ops/fmha/flash.py:344: FutureWarning: `torch.library.impl_abstract` was renamed to `torch.library.register_fake`. Please use that instead; we will remove `torch.library.impl_abstract` in a future version of PyTorch.\n",
      "  @torch.library.impl_abstract(\"xformers_flash::flash_bwd\")\n",
      "Some weights of the model checkpoint at dunzhang/stella_en_400M_v5 were not used when initializing NewModel: ['new.pooler.dense.bias', 'new.pooler.dense.weight']\n",
      "- This IS expected if you are initializing NewModel from the checkpoint of a model trained on another task or with another architecture (e.g. initializing a BertForSequenceClassification model from a BertForPreTraining model).\n",
      "- This IS NOT expected if you are initializing NewModel from the checkpoint of a model that you expect to be exactly identical (initializing a BertForSequenceClassification model from a BertForSequenceClassification model).\n"
     ]
    },
    {
     "name": "stdout",
     "output_type": "stream",
     "text": [
      "Fold 1: 0.9005131128848347\n",
      "Fold 2: 0.9003436426116839\n",
      "Fold 3: 0.8942390369733448\n",
      "Fold 4: 0.8995420721236406\n",
      "Fold 5: 0.9047755218758936\n",
      "CVスコア: 0.8998826772938795\n",
      "\n",
      "モデル: Alibaba-NLP/gte-large-en-v1.5\n",
      "Fold 1: 0.8717217787913341\n",
      "Fold 2: 0.8671248568155785\n",
      "Fold 3: 0.8641444539982803\n",
      "Fold 4: 0.8709215798511735\n",
      "Fold 5: 0.8713182728052616\n",
      "CVスコア: 0.8690461884523255\n",
      "\n",
      "モデル: jinaai/jina-embeddings-v3\n"
     ]
    },
    {
     "name": "stderr",
     "output_type": "stream",
     "text": [
      "flash_attn is not installed. Using PyTorch native attention implementation.\n",
      "flash_attn is not installed. Using PyTorch native attention implementation.\n",
      "flash_attn is not installed. Using PyTorch native attention implementation.\n",
      "flash_attn is not installed. Using PyTorch native attention implementation.\n",
      "flash_attn is not installed. Using PyTorch native attention implementation.\n",
      "flash_attn is not installed. Using PyTorch native attention implementation.\n",
      "flash_attn is not installed. Using PyTorch native attention implementation.\n",
      "flash_attn is not installed. Using PyTorch native attention implementation.\n",
      "flash_attn is not installed. Using PyTorch native attention implementation.\n",
      "flash_attn is not installed. Using PyTorch native attention implementation.\n",
      "flash_attn is not installed. Using PyTorch native attention implementation.\n",
      "flash_attn is not installed. Using PyTorch native attention implementation.\n",
      "flash_attn is not installed. Using PyTorch native attention implementation.\n",
      "flash_attn is not installed. Using PyTorch native attention implementation.\n",
      "flash_attn is not installed. Using PyTorch native attention implementation.\n",
      "flash_attn is not installed. Using PyTorch native attention implementation.\n",
      "flash_attn is not installed. Using PyTorch native attention implementation.\n",
      "flash_attn is not installed. Using PyTorch native attention implementation.\n",
      "flash_attn is not installed. Using PyTorch native attention implementation.\n",
      "flash_attn is not installed. Using PyTorch native attention implementation.\n",
      "flash_attn is not installed. Using PyTorch native attention implementation.\n",
      "flash_attn is not installed. Using PyTorch native attention implementation.\n",
      "flash_attn is not installed. Using PyTorch native attention implementation.\n",
      "flash_attn is not installed. Using PyTorch native attention implementation.\n",
      "flash_attn is not installed. Using PyTorch native attention implementation.\n"
     ]
    },
    {
     "name": "stdout",
     "output_type": "stream",
     "text": [
      "Fold 1: 0.8985176738882554\n",
      "Fold 2: 0.9029209621993127\n",
      "Fold 3: 0.8939524218973918\n",
      "Fold 4: 0.9009730967372639\n",
      "Fold 5: 0.9079210752073206\n",
      "CVスコア: 0.9008570459859089\n",
      "\n"
     ]
    }
   ],
   "source": [
    "# 埋め込みモデルの比較をCVで行う\n",
    "\n",
    "# QuestionIdでGroupKFold\n",
    "for model_name in model_names:\n",
    "    print(f\"モデル: {model_name}\")\n",
    "\n",
    "    model = SentenceTransformer(model_name, trust_remote_code=True)\n",
    "\n",
    "    cv_scores = []\n",
    "    for i, (train_idx, valid_idx) in enumerate(gkf.split(train_df, groups=train_df[\"QuestionId\"])):\n",
    "        # train_dfの分割\n",
    "        train = train_df[train_idx]\n",
    "        valid = train_df[valid_idx]\n",
    "\n",
    "        # trainのSubjectName情報をmapping_dfに追加\n",
    "        mapping_meta = add_subject_name_info(train, mapping_df)\n",
    "\n",
    "        # trainの前処理\n",
    "        train_long = preprocess_train(train)\n",
    "\n",
    "        # 埋め込みモデルでベクトル化\n",
    "        train_long_embed = model.encode(train_long[\"AllText\"].to_list(), normalize_embeddings=True)\n",
    "        misconception_vec = model.encode(\n",
    "            mapping_meta[\"MisconceptionName_with_SubjectNames\"].to_list(), normalize_embeddings=True\n",
    "        )\n",
    "        # jina-embeddings-v3の場合のみtaskを指定\n",
    "        if model_name == \"jinaai/jina-embeddings-v3\":\n",
    "            train_long_embed = model.encode(\n",
    "                train_long[\"AllText\"].to_list(), task=task, prompt_name=task, normalize_embeddings=True\n",
    "            )\n",
    "            misconception_vec = model.encode(\n",
    "                mapping_meta[\"MisconceptionName_with_SubjectNames\"].to_list(),\n",
    "                task=task,\n",
    "                prompt_name=task,\n",
    "                normalize_embeddings=True,\n",
    "            )\n",
    "\n",
    "        # 埋め込みからTOPkを抽出\n",
    "        topkids = util.semantic_search(train_long_embed, misconception_vec, top_k=cfg.k)\n",
    "\n",
    "        # topkidsからk個のcorpus_id(=misconception_id)を抽出\n",
    "        topkids_lists = [[qid[\"corpus_id\"] for qid in topkids] for topkids in topkids]\n",
    "        # gt_misconception_idを抽出\n",
    "        gt_misconception_ids = train_long[\"MisconceptionId\"].to_list()\n",
    "\n",
    "        # 抽出したTOPkの中にgt_misconception_idがあるか確認\n",
    "        is_gt_in_topk = []\n",
    "        for topkids_list, gt_misconception_id in zip(topkids_lists, gt_misconception_ids, strict=True):\n",
    "            if gt_misconception_id in topkids_list:\n",
    "                is_gt_in_topk.append(True)\n",
    "            else:\n",
    "                is_gt_in_topk.append(False)\n",
    "\n",
    "        # 平均をとってCVスコアとする\n",
    "        avg_score = np.mean(is_gt_in_topk)\n",
    "        cv_scores.append(avg_score)\n",
    "        print(f\"Fold {i+1}: {avg_score}\")\n",
    "\n",
    "    print(f\"CVスコア: {np.mean(cv_scores)}\\n\")\n"
   ]
  },
  {
   "cell_type": "code",
   "execution_count": 6,
   "metadata": {},
   "outputs": [
    {
     "name": "stdout",
     "output_type": "stream",
     "text": [
      "topk: 75\n",
      "モデル: ../../data/Joseph-Eedi-finetuned-bge\n",
      "Fold 1: 0.9466932725199544\n",
      "Fold 2: 0.9455899198167239\n",
      "Fold 3: 0.9498423617082259\n",
      "Fold 4: 0.9419004006868918\n",
      "Fold 5: 0.9453817557906777\n",
      "CVスコア: 0.9458815421044948\n",
      "\n",
      "モデル: BAAI/bge-large-en-v1.5\n",
      "Fold 1: 0.9025085518814139\n",
      "Fold 2: 0.8966208476517755\n",
      "Fold 3: 0.8965319575809687\n",
      "Fold 4: 0.9024041213508872\n",
      "Fold 5: 0.9082070346010866\n",
      "CVスコア: 0.9012545026132264\n",
      "\n",
      "モデル: dunzhang/stella_en_400M_v5\n"
     ]
    },
    {
     "name": "stderr",
     "output_type": "stream",
     "text": [
      "Some weights of the model checkpoint at dunzhang/stella_en_400M_v5 were not used when initializing NewModel: ['new.pooler.dense.bias', 'new.pooler.dense.weight']\n",
      "- This IS expected if you are initializing NewModel from the checkpoint of a model trained on another task or with another architecture (e.g. initializing a BertForSequenceClassification model from a BertForPreTraining model).\n",
      "- This IS NOT expected if you are initializing NewModel from the checkpoint of a model that you expect to be exactly identical (initializing a BertForSequenceClassification model from a BertForSequenceClassification model).\n"
     ]
    },
    {
     "name": "stdout",
     "output_type": "stream",
     "text": [
      "Fold 1: 0.9370011402508552\n",
      "Fold 2: 0.9375715922107675\n",
      "Fold 3: 0.9314989968472341\n",
      "Fold 4: 0.9419004006868918\n",
      "Fold 5: 0.9370889333714613\n",
      "CVスコア: 0.9370122126734419\n",
      "\n",
      "モデル: Alibaba-NLP/gte-large-en-v1.5\n",
      "Fold 1: 0.9124857468643102\n",
      "Fold 2: 0.9115120274914089\n",
      "Fold 3: 0.9122957867583835\n",
      "Fold 4: 0.9158557527189468\n",
      "Fold 5: 0.9190734915641979\n",
      "CVスコア: 0.9142445610794494\n",
      "\n",
      "モデル: jinaai/jina-embeddings-v3\n"
     ]
    },
    {
     "name": "stderr",
     "output_type": "stream",
     "text": [
      "flash_attn is not installed. Using PyTorch native attention implementation.\n",
      "flash_attn is not installed. Using PyTorch native attention implementation.\n",
      "flash_attn is not installed. Using PyTorch native attention implementation.\n",
      "flash_attn is not installed. Using PyTorch native attention implementation.\n",
      "flash_attn is not installed. Using PyTorch native attention implementation.\n",
      "flash_attn is not installed. Using PyTorch native attention implementation.\n",
      "flash_attn is not installed. Using PyTorch native attention implementation.\n",
      "flash_attn is not installed. Using PyTorch native attention implementation.\n",
      "flash_attn is not installed. Using PyTorch native attention implementation.\n",
      "flash_attn is not installed. Using PyTorch native attention implementation.\n",
      "flash_attn is not installed. Using PyTorch native attention implementation.\n",
      "flash_attn is not installed. Using PyTorch native attention implementation.\n",
      "flash_attn is not installed. Using PyTorch native attention implementation.\n",
      "flash_attn is not installed. Using PyTorch native attention implementation.\n",
      "flash_attn is not installed. Using PyTorch native attention implementation.\n",
      "flash_attn is not installed. Using PyTorch native attention implementation.\n",
      "flash_attn is not installed. Using PyTorch native attention implementation.\n",
      "flash_attn is not installed. Using PyTorch native attention implementation.\n",
      "flash_attn is not installed. Using PyTorch native attention implementation.\n",
      "flash_attn is not installed. Using PyTorch native attention implementation.\n",
      "flash_attn is not installed. Using PyTorch native attention implementation.\n",
      "flash_attn is not installed. Using PyTorch native attention implementation.\n",
      "flash_attn is not installed. Using PyTorch native attention implementation.\n",
      "flash_attn is not installed. Using PyTorch native attention implementation.\n",
      "flash_attn is not installed. Using PyTorch native attention implementation.\n"
     ]
    },
    {
     "name": "stdout",
     "output_type": "stream",
     "text": [
      "Fold 1: 0.9324401368301026\n",
      "Fold 2: 0.9338487972508591\n",
      "Fold 3: 0.9286328460877042\n",
      "Fold 4: 0.9298797939324557\n",
      "Fold 5: 0.9425221618530168\n",
      "CVスコア: 0.9334647471908276\n",
      "\n"
     ]
    }
   ],
   "source": [
    "# 埋め込みモデルの比較をCVで行う\n",
    "\n",
    "cfg.k = 75\n",
    "print(f\"topk: {cfg.k}\")\n",
    "\n",
    "# QuestionIdでGroupKFold\n",
    "for model_name in model_names:\n",
    "    print(f\"モデル: {model_name}\")\n",
    "\n",
    "    model = SentenceTransformer(model_name, trust_remote_code=True)\n",
    "\n",
    "    cv_scores = []\n",
    "    for i, (train_idx, valid_idx) in enumerate(gkf.split(train_df, groups=train_df[\"QuestionId\"])):\n",
    "        # train_dfの分割\n",
    "        train = train_df[train_idx]\n",
    "        valid = train_df[valid_idx]\n",
    "\n",
    "        # trainのSubjectName情報をmapping_dfに追加\n",
    "        mapping_meta = add_subject_name_info(train, mapping_df)\n",
    "\n",
    "        # trainの前処理\n",
    "        train_long = preprocess_train(train)\n",
    "\n",
    "        # 埋め込みモデルでベクトル化\n",
    "        train_long_embed = model.encode(train_long[\"AllText\"].to_list(), normalize_embeddings=True)\n",
    "        misconception_vec = model.encode(\n",
    "            mapping_meta[\"MisconceptionName_with_SubjectNames\"].to_list(), normalize_embeddings=True\n",
    "        )\n",
    "        # jina-embeddings-v3の場合のみtaskを指定\n",
    "        if model_name == \"jinaai/jina-embeddings-v3\":\n",
    "            train_long_embed = model.encode(\n",
    "                train_long[\"AllText\"].to_list(), task=task, prompt_name=task, normalize_embeddings=True\n",
    "            )\n",
    "            misconception_vec = model.encode(\n",
    "                mapping_meta[\"MisconceptionName_with_SubjectNames\"].to_list(),\n",
    "                task=task,\n",
    "                prompt_name=task,\n",
    "                normalize_embeddings=True,\n",
    "            )\n",
    "\n",
    "        # 埋め込みからTOPkを抽出\n",
    "        topkids = util.semantic_search(train_long_embed, misconception_vec, top_k=cfg.k)\n",
    "\n",
    "        # topkidsからk個のcorpus_id(=misconception_id)を抽出\n",
    "        topkids_lists = [[qid[\"corpus_id\"] for qid in topkids] for topkids in topkids]\n",
    "        # gt_misconception_idを抽出\n",
    "        gt_misconception_ids = train_long[\"MisconceptionId\"].to_list()\n",
    "\n",
    "        # 抽出したTOPkの中にgt_misconception_idがあるか確認\n",
    "        is_gt_in_topk = []\n",
    "        for topkids_list, gt_misconception_id in zip(topkids_lists, gt_misconception_ids, strict=True):\n",
    "            if gt_misconception_id in topkids_list:\n",
    "                is_gt_in_topk.append(True)\n",
    "            else:\n",
    "                is_gt_in_topk.append(False)\n",
    "\n",
    "        # 平均をとってCVスコアとする\n",
    "        avg_score = np.mean(is_gt_in_topk)\n",
    "        cv_scores.append(avg_score)\n",
    "        print(f\"Fold {i+1}: {avg_score}\")\n",
    "\n",
    "    print(f\"CVスコア: {np.mean(cv_scores)}\\n\")\n"
   ]
  },
  {
   "cell_type": "markdown",
   "metadata": {},
   "source": [
    "### アンサンブルすると精度上がるか検証してみる"
   ]
  },
  {
   "cell_type": "code",
   "execution_count": null,
   "metadata": {},
   "outputs": [],
   "source": [
    "# TODO: アンサンブルすると精度上がるか検証してみる\n"
   ]
  }
 ],
 "metadata": {
  "kernelspec": {
   "display_name": ".venv",
   "language": "python",
   "name": "python3"
  },
  "language_info": {
   "codemirror_mode": {
    "name": "ipython",
    "version": 3
   },
   "file_extension": ".py",
   "mimetype": "text/x-python",
   "name": "python",
   "nbconvert_exporter": "python",
   "pygments_lexer": "ipython3",
   "version": "3.12.3"
  }
 },
 "nbformat": 4,
 "nbformat_minor": 2
}
