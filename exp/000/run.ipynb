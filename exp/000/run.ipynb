{
 "cells": [
  {
   "cell_type": "code",
   "execution_count": 1,
   "metadata": {},
   "outputs": [
    {
     "name": "stdout",
     "output_type": "stream",
     "text": [
      "exp_number: '000'\n",
      "run_time: base\n",
      "data:\n",
      "  input_root: ../../data/input\n",
      "  train_path: ../../data/input/train.csv\n",
      "  test_path: ../../data/input/test.csv\n",
      "  sample_submission_path: ../../data/input/sample_submission.csv\n",
      "  mapping_path: ../../data/input/misconception_mapping.csv\n",
      "  output_root: ../../data/output\n",
      "  results_root: ../../results\n",
      "  results_path: ../../results/000/base\n",
      "seed: 42\n",
      "\n"
     ]
    }
   ],
   "source": [
    "import pickle\n",
    "import pprint\n",
    "from datetime import datetime\n",
    "from pathlib import Path\n",
    "\n",
    "import matplotlib.pyplot as plt\n",
    "import numpy as np\n",
    "import pandas as pd\n",
    "import polars as pl\n",
    "import pytz\n",
    "import seaborn as sns\n",
    "from omegaconf import OmegaConf\n",
    "from sklearn.model_selection import StratifiedKFold\n",
    "from sklearn.preprocessing import LabelEncoder\n",
    "\n",
    "from src.config import cfg\n",
    "from src.dir import create_dir\n",
    "from src.seed import seed_everything\n",
    "\n",
    "cfg.exp_number = Path().resolve().name\n",
    "print(OmegaConf.to_yaml(cfg, resolve=True))\n",
    "\n",
    "seed_everything(cfg.seed)\n"
   ]
  },
  {
   "cell_type": "markdown",
   "metadata": {},
   "source": [
    "### データの読み込み"
   ]
  },
  {
   "cell_type": "code",
   "execution_count": 2,
   "metadata": {},
   "outputs": [],
   "source": [
    "# データの読み込み\n",
    "train_df = pl.read_csv(cfg.data.train_path, try_parse_dates=True)\n",
    "test_df = pl.read_csv(cfg.data.test_path, try_parse_dates=True)\n",
    "sample_submission_df = pl.read_csv(cfg.data.sample_submission_path, try_parse_dates=True)\n",
    "mapping_df = pl.read_csv(cfg.data.mapping_path, try_parse_dates=True)\n",
    "\n",
    "# # データの結合\n",
    "# train_test_df = pl.concat([train_df, test_df], how=\"diagonal\")\n"
   ]
  },
  {
   "cell_type": "markdown",
   "metadata": {},
   "source": [
    "### train"
   ]
  },
  {
   "cell_type": "code",
   "execution_count": 12,
   "metadata": {},
   "outputs": [
    {
     "data": {
      "text/html": [
       "<div><style>\n",
       ".dataframe > thead > tr,\n",
       ".dataframe > tbody > tr {\n",
       "  text-align: right;\n",
       "  white-space: pre-wrap;\n",
       "}\n",
       "</style>\n",
       "<small>shape: (3, 15)</small><table border=\"1\" class=\"dataframe\"><thead><tr><th>QuestionId</th><th>ConstructId</th><th>ConstructName</th><th>SubjectId</th><th>SubjectName</th><th>CorrectAnswer</th><th>QuestionText</th><th>AnswerAText</th><th>AnswerBText</th><th>AnswerCText</th><th>AnswerDText</th><th>MisconceptionAId</th><th>MisconceptionBId</th><th>MisconceptionCId</th><th>MisconceptionDId</th></tr><tr><td>i64</td><td>i64</td><td>str</td><td>i64</td><td>str</td><td>str</td><td>str</td><td>str</td><td>str</td><td>str</td><td>str</td><td>f64</td><td>f64</td><td>f64</td><td>f64</td></tr></thead><tbody><tr><td>0</td><td>856</td><td>&quot;Use the order of operations to carry out calculations involving powers&quot;</td><td>33</td><td>&quot;BIDMAS&quot;</td><td>&quot;A&quot;</td><td>&quot;\\[\n",
       "3 \\times 2+4-5\n",
       "\\]\n",
       "Where do the brackets need to go to make the answer equal \\( 13 \\) ?&quot;</td><td>&quot;\\( 3 \\times(2+4)-5 \\)&quot;</td><td>&quot;\\( 3 \\times 2+(4-5) \\)&quot;</td><td>&quot;\\( 3 \\times(2+4-5) \\)&quot;</td><td>&quot;Does not need brackets&quot;</td><td>null</td><td>null</td><td>null</td><td>1672.0</td></tr><tr><td>1</td><td>1612</td><td>&quot;Simplify an algebraic fraction by factorising the numerator&quot;</td><td>1077</td><td>&quot;Simplifying Algebraic Fractions&quot;</td><td>&quot;D&quot;</td><td>&quot;Simplify the following, if possible: \\( \\frac{m^{2}+2 m-3}{m-3} \\)&quot;</td><td>&quot;\\( m+1 \\)&quot;</td><td>&quot;\\( m+2 \\)&quot;</td><td>&quot;\\( m-1 \\)&quot;</td><td>&quot;Does not simplify&quot;</td><td>2142.0</td><td>143.0</td><td>2142.0</td><td>null</td></tr><tr><td>2</td><td>2774</td><td>&quot;Calculate the range from a list of data&quot;</td><td>339</td><td>&quot;Range and Interquartile Range from a List of Data&quot;</td><td>&quot;B&quot;</td><td>&quot;Tom and Katie are discussing the \\( 5 \\) plants with these heights:\n",
       "\\( 24 \\mathrm{~cm}, 17 \\mathrm{~cm}, 42 \\mathrm{~cm}, 26 \\mathrm{~cm}, 13 \\mathrm{~cm} \\)\n",
       "Tom says if all the plants were cut in half, the range wouldn&#x27;t change.\n",
       "Katie says if all the plants grew by \\( 3 \\mathrm{~cm} \\) each, the range wouldn&#x27;t change.\n",
       "Who do you agree with?&quot;</td><td>&quot;Only\n",
       "Tom&quot;</td><td>&quot;Only\n",
       "Katie&quot;</td><td>&quot;Both Tom and Katie&quot;</td><td>&quot;Neither is correct&quot;</td><td>1287.0</td><td>null</td><td>1287.0</td><td>1073.0</td></tr></tbody></table></div>"
      ],
      "text/plain": [
       "shape: (3, 15)\n",
       "┌───────────┬───────────┬───────────┬───────────┬───┬───────────┬───────────┬───────────┬──────────┐\n",
       "│ QuestionI ┆ Construct ┆ Construct ┆ SubjectId ┆ … ┆ Misconcep ┆ Misconcep ┆ Misconcep ┆ Misconce │\n",
       "│ d         ┆ Id        ┆ Name      ┆ ---       ┆   ┆ tionAId   ┆ tionBId   ┆ tionCId   ┆ ptionDId │\n",
       "│ ---       ┆ ---       ┆ ---       ┆ i64       ┆   ┆ ---       ┆ ---       ┆ ---       ┆ ---      │\n",
       "│ i64       ┆ i64       ┆ str       ┆           ┆   ┆ f64       ┆ f64       ┆ f64       ┆ f64      │\n",
       "╞═══════════╪═══════════╪═══════════╪═══════════╪═══╪═══════════╪═══════════╪═══════════╪══════════╡\n",
       "│ 0         ┆ 856       ┆ Use the   ┆ 33        ┆ … ┆ null      ┆ null      ┆ null      ┆ 1672.0   │\n",
       "│           ┆           ┆ order of  ┆           ┆   ┆           ┆           ┆           ┆          │\n",
       "│           ┆           ┆ operation ┆           ┆   ┆           ┆           ┆           ┆          │\n",
       "│           ┆           ┆ s to      ┆           ┆   ┆           ┆           ┆           ┆          │\n",
       "│           ┆           ┆ carry out ┆           ┆   ┆           ┆           ┆           ┆          │\n",
       "│           ┆           ┆ calculati ┆           ┆   ┆           ┆           ┆           ┆          │\n",
       "│           ┆           ┆ ons       ┆           ┆   ┆           ┆           ┆           ┆          │\n",
       "│           ┆           ┆ involving ┆           ┆   ┆           ┆           ┆           ┆          │\n",
       "│           ┆           ┆ powers    ┆           ┆   ┆           ┆           ┆           ┆          │\n",
       "│ 1         ┆ 1612      ┆ Simplify  ┆ 1077      ┆ … ┆ 2142.0    ┆ 143.0     ┆ 2142.0    ┆ null     │\n",
       "│           ┆           ┆ an        ┆           ┆   ┆           ┆           ┆           ┆          │\n",
       "│           ┆           ┆ algebraic ┆           ┆   ┆           ┆           ┆           ┆          │\n",
       "│           ┆           ┆ fraction  ┆           ┆   ┆           ┆           ┆           ┆          │\n",
       "│           ┆           ┆ by factor ┆           ┆   ┆           ┆           ┆           ┆          │\n",
       "│           ┆           ┆ ising the ┆           ┆   ┆           ┆           ┆           ┆          │\n",
       "│           ┆           ┆ numerator ┆           ┆   ┆           ┆           ┆           ┆          │\n",
       "│ 2         ┆ 2774      ┆ Calculate ┆ 339       ┆ … ┆ 1287.0    ┆ null      ┆ 1287.0    ┆ 1073.0   │\n",
       "│           ┆           ┆ the range ┆           ┆   ┆           ┆           ┆           ┆          │\n",
       "│           ┆           ┆ from a    ┆           ┆   ┆           ┆           ┆           ┆          │\n",
       "│           ┆           ┆ list of   ┆           ┆   ┆           ┆           ┆           ┆          │\n",
       "│           ┆           ┆ data      ┆           ┆   ┆           ┆           ┆           ┆          │\n",
       "└───────────┴───────────┴───────────┴───────────┴───┴───────────┴───────────┴───────────┴──────────┘"
      ]
     },
     "execution_count": 12,
     "metadata": {},
     "output_type": "execute_result"
    }
   ],
   "source": [
    "pl.Config.set_fmt_str_lengths(1000)\n",
    "train_df.head(3)\n"
   ]
  },
  {
   "cell_type": "code",
   "execution_count": 6,
   "metadata": {},
   "outputs": [
    {
     "data": {
      "text/plain": [
       "(1869, 15)"
      ]
     },
     "execution_count": 6,
     "metadata": {},
     "output_type": "execute_result"
    }
   ],
   "source": [
    "train_df.shape\n"
   ]
  },
  {
   "cell_type": "code",
   "execution_count": 4,
   "metadata": {},
   "outputs": [
    {
     "data": {
      "text/plain": [
       "Schema([('QuestionId', Int64),\n",
       "        ('ConstructId', Int64),\n",
       "        ('ConstructName', String),\n",
       "        ('SubjectId', Int64),\n",
       "        ('SubjectName', String),\n",
       "        ('CorrectAnswer', String),\n",
       "        ('QuestionText', String),\n",
       "        ('AnswerAText', String),\n",
       "        ('AnswerBText', String),\n",
       "        ('AnswerCText', String),\n",
       "        ('AnswerDText', String),\n",
       "        ('MisconceptionAId', Float64),\n",
       "        ('MisconceptionBId', Float64),\n",
       "        ('MisconceptionCId', Float64),\n",
       "        ('MisconceptionDId', Float64)])"
      ]
     },
     "execution_count": 4,
     "metadata": {},
     "output_type": "execute_result"
    }
   ],
   "source": [
    "train_df.schema\n"
   ]
  },
  {
   "cell_type": "code",
   "execution_count": 5,
   "metadata": {},
   "outputs": [
    {
     "data": {
      "text/html": [
       "<div><style>\n",
       ".dataframe > thead > tr,\n",
       ".dataframe > tbody > tr {\n",
       "  text-align: right;\n",
       "  white-space: pre-wrap;\n",
       "}\n",
       "</style>\n",
       "<small>shape: (9, 16)</small><table border=\"1\" class=\"dataframe\"><thead><tr><th>statistic</th><th>QuestionId</th><th>ConstructId</th><th>ConstructName</th><th>SubjectId</th><th>SubjectName</th><th>CorrectAnswer</th><th>QuestionText</th><th>AnswerAText</th><th>AnswerBText</th><th>AnswerCText</th><th>AnswerDText</th><th>MisconceptionAId</th><th>MisconceptionBId</th><th>MisconceptionCId</th><th>MisconceptionDId</th></tr><tr><td>str</td><td>f64</td><td>f64</td><td>str</td><td>f64</td><td>str</td><td>str</td><td>str</td><td>str</td><td>str</td><td>str</td><td>str</td><td>f64</td><td>f64</td><td>f64</td><td>f64</td></tr></thead><tbody><tr><td>&quot;count&quot;</td><td>1869.0</td><td>1869.0</td><td>&quot;1869&quot;</td><td>1869.0</td><td>&quot;1869&quot;</td><td>&quot;1869&quot;</td><td>&quot;1869&quot;</td><td>&quot;1869&quot;</td><td>&quot;1869&quot;</td><td>&quot;1869&quot;</td><td>&quot;1869&quot;</td><td>1135.0</td><td>1118.0</td><td>1080.0</td><td>1037.0</td></tr><tr><td>&quot;null_count&quot;</td><td>0.0</td><td>0.0</td><td>&quot;0&quot;</td><td>0.0</td><td>&quot;0&quot;</td><td>&quot;0&quot;</td><td>&quot;0&quot;</td><td>&quot;0&quot;</td><td>&quot;0&quot;</td><td>&quot;0&quot;</td><td>&quot;0&quot;</td><td>734.0</td><td>751.0</td><td>789.0</td><td>832.0</td></tr><tr><td>&quot;mean&quot;</td><td>934.0</td><td>1613.261637</td><td>null</td><td>225.370787</td><td>null</td><td>null</td><td>null</td><td>null</td><td>null</td><td>null</td><td>null</td><td>1308.599119</td><td>1308.029517</td><td>1285.300926</td><td>1264.568949</td></tr><tr><td>&quot;std&quot;</td><td>539.678145</td><td>1060.591804</td><td>null</td><td>238.536233</td><td>null</td><td>null</td><td>null</td><td>null</td><td>null</td><td>null</td><td>null</td><td>744.51837</td><td>766.487351</td><td>742.212198</td><td>759.818341</td></tr><tr><td>&quot;min&quot;</td><td>0.0</td><td>4.0</td><td>&quot;Add algebraic fractions where …</td><td>33.0</td><td>&quot;2D Names and Properties of Sha…</td><td>&quot;A&quot;</td><td>&quot;![2 arrows pointing to the rig…</td><td>&quot;![ Long multiplication for 72 …</td><td>&quot;![ Long multiplication for 72 …</td><td>&quot;![ Long multiplication for 72 …</td><td>&quot;![ Long multiplication for 72 …</td><td>1.0</td><td>1.0</td><td>2.0</td><td>0.0</td></tr><tr><td>&quot;25%&quot;</td><td>467.0</td><td>575.0</td><td>null</td><td>92.0</td><td>null</td><td>null</td><td>null</td><td>null</td><td>null</td><td>null</td><td>null</td><td>686.0</td><td>625.0</td><td>655.0</td><td>578.0</td></tr><tr><td>&quot;50%&quot;</td><td>934.0</td><td>1470.0</td><td>null</td><td>203.0</td><td>null</td><td>null</td><td>null</td><td>null</td><td>null</td><td>null</td><td>null</td><td>1336.0</td><td>1379.0</td><td>1295.0</td><td>1282.0</td></tr><tr><td>&quot;75%&quot;</td><td>1401.0</td><td>2637.0</td><td>null</td><td>238.0</td><td>null</td><td>null</td><td>null</td><td>null</td><td>null</td><td>null</td><td>null</td><td>1954.0</td><td>1970.0</td><td>1911.0</td><td>1897.0</td></tr><tr><td>&quot;max&quot;</td><td>1868.0</td><td>3526.0</td><td>&quot;Write the next term of an asce…</td><td>1984.0</td><td>&quot;Written Subtraction&quot;</td><td>&quot;D&quot;</td><td>&quot;input \\(\\Rightarrow-3 \\Rightar…</td><td>&quot;£6&quot;</td><td>&quot;£4.80&quot;</td><td>&quot;£5.80&quot;</td><td>&quot;ССССССССС&quot;</td><td>2585.0</td><td>2586.0</td><td>2585.0</td><td>2583.0</td></tr></tbody></table></div>"
      ],
      "text/plain": [
       "shape: (9, 16)\n",
       "┌───────────┬───────────┬───────────┬───────────┬───┬───────────┬───────────┬───────────┬──────────┐\n",
       "│ statistic ┆ QuestionI ┆ Construct ┆ Construct ┆ … ┆ Misconcep ┆ Misconcep ┆ Misconcep ┆ Misconce │\n",
       "│ ---       ┆ d         ┆ Id        ┆ Name      ┆   ┆ tionAId   ┆ tionBId   ┆ tionCId   ┆ ptionDId │\n",
       "│ str       ┆ ---       ┆ ---       ┆ ---       ┆   ┆ ---       ┆ ---       ┆ ---       ┆ ---      │\n",
       "│           ┆ f64       ┆ f64       ┆ str       ┆   ┆ f64       ┆ f64       ┆ f64       ┆ f64      │\n",
       "╞═══════════╪═══════════╪═══════════╪═══════════╪═══╪═══════════╪═══════════╪═══════════╪══════════╡\n",
       "│ count     ┆ 1869.0    ┆ 1869.0    ┆ 1869      ┆ … ┆ 1135.0    ┆ 1118.0    ┆ 1080.0    ┆ 1037.0   │\n",
       "│ null_coun ┆ 0.0       ┆ 0.0       ┆ 0         ┆ … ┆ 734.0     ┆ 751.0     ┆ 789.0     ┆ 832.0    │\n",
       "│ t         ┆           ┆           ┆           ┆   ┆           ┆           ┆           ┆          │\n",
       "│ mean      ┆ 934.0     ┆ 1613.2616 ┆ null      ┆ … ┆ 1308.5991 ┆ 1308.0295 ┆ 1285.3009 ┆ 1264.568 │\n",
       "│           ┆           ┆ 37        ┆           ┆   ┆ 19        ┆ 17        ┆ 26        ┆ 949      │\n",
       "│ std       ┆ 539.67814 ┆ 1060.5918 ┆ null      ┆ … ┆ 744.51837 ┆ 766.48735 ┆ 742.21219 ┆ 759.8183 │\n",
       "│           ┆ 5         ┆ 04        ┆           ┆   ┆           ┆ 1         ┆ 8         ┆ 41       │\n",
       "│ min       ┆ 0.0       ┆ 4.0       ┆ Add       ┆ … ┆ 1.0       ┆ 1.0       ┆ 2.0       ┆ 0.0      │\n",
       "│           ┆           ┆           ┆ algebraic ┆   ┆           ┆           ┆           ┆          │\n",
       "│           ┆           ┆           ┆ fractions ┆   ┆           ┆           ┆           ┆          │\n",
       "│           ┆           ┆           ┆ where …   ┆   ┆           ┆           ┆           ┆          │\n",
       "│ 25%       ┆ 467.0     ┆ 575.0     ┆ null      ┆ … ┆ 686.0     ┆ 625.0     ┆ 655.0     ┆ 578.0    │\n",
       "│ 50%       ┆ 934.0     ┆ 1470.0    ┆ null      ┆ … ┆ 1336.0    ┆ 1379.0    ┆ 1295.0    ┆ 1282.0   │\n",
       "│ 75%       ┆ 1401.0    ┆ 2637.0    ┆ null      ┆ … ┆ 1954.0    ┆ 1970.0    ┆ 1911.0    ┆ 1897.0   │\n",
       "│ max       ┆ 1868.0    ┆ 3526.0    ┆ Write the ┆ … ┆ 2585.0    ┆ 2586.0    ┆ 2585.0    ┆ 2583.0   │\n",
       "│           ┆           ┆           ┆ next term ┆   ┆           ┆           ┆           ┆          │\n",
       "│           ┆           ┆           ┆ of an     ┆   ┆           ┆           ┆           ┆          │\n",
       "│           ┆           ┆           ┆ asce…     ┆   ┆           ┆           ┆           ┆          │\n",
       "└───────────┴───────────┴───────────┴───────────┴───┴───────────┴───────────┴───────────┴──────────┘"
      ]
     },
     "execution_count": 5,
     "metadata": {},
     "output_type": "execute_result"
    }
   ],
   "source": [
    "train_df.describe()\n"
   ]
  },
  {
   "cell_type": "code",
   "execution_count": 8,
   "metadata": {},
   "outputs": [
    {
     "data": {
      "text/html": [
       "<div><style>\n",
       ".dataframe > thead > tr,\n",
       ".dataframe > tbody > tr {\n",
       "  text-align: right;\n",
       "  white-space: pre-wrap;\n",
       "}\n",
       "</style>\n",
       "<small>shape: (1, 15)</small><table border=\"1\" class=\"dataframe\"><thead><tr><th>QuestionId</th><th>ConstructId</th><th>ConstructName</th><th>SubjectId</th><th>SubjectName</th><th>CorrectAnswer</th><th>QuestionText</th><th>AnswerAText</th><th>AnswerBText</th><th>AnswerCText</th><th>AnswerDText</th><th>MisconceptionAId</th><th>MisconceptionBId</th><th>MisconceptionCId</th><th>MisconceptionDId</th></tr><tr><td>u32</td><td>u32</td><td>u32</td><td>u32</td><td>u32</td><td>u32</td><td>u32</td><td>u32</td><td>u32</td><td>u32</td><td>u32</td><td>u32</td><td>u32</td><td>u32</td><td>u32</td></tr></thead><tbody><tr><td>1869</td><td>757</td><td>757</td><td>163</td><td>163</td><td>4</td><td>1857</td><td>1219</td><td>1230</td><td>1222</td><td>1184</td><td>741</td><td>728</td><td>696</td><td>674</td></tr></tbody></table></div>"
      ],
      "text/plain": [
       "shape: (1, 15)\n",
       "┌───────────┬───────────┬───────────┬───────────┬───┬───────────┬───────────┬───────────┬──────────┐\n",
       "│ QuestionI ┆ Construct ┆ Construct ┆ SubjectId ┆ … ┆ Misconcep ┆ Misconcep ┆ Misconcep ┆ Misconce │\n",
       "│ d         ┆ Id        ┆ Name      ┆ ---       ┆   ┆ tionAId   ┆ tionBId   ┆ tionCId   ┆ ptionDId │\n",
       "│ ---       ┆ ---       ┆ ---       ┆ u32       ┆   ┆ ---       ┆ ---       ┆ ---       ┆ ---      │\n",
       "│ u32       ┆ u32       ┆ u32       ┆           ┆   ┆ u32       ┆ u32       ┆ u32       ┆ u32      │\n",
       "╞═══════════╪═══════════╪═══════════╪═══════════╪═══╪═══════════╪═══════════╪═══════════╪══════════╡\n",
       "│ 1869      ┆ 757       ┆ 757       ┆ 163       ┆ … ┆ 741       ┆ 728       ┆ 696       ┆ 674      │\n",
       "└───────────┴───────────┴───────────┴───────────┴───┴───────────┴───────────┴───────────┴──────────┘"
      ]
     },
     "execution_count": 8,
     "metadata": {},
     "output_type": "execute_result"
    }
   ],
   "source": [
    "train_df.select(pl.all().n_unique())\n"
   ]
  },
  {
   "cell_type": "markdown",
   "metadata": {},
   "source": [
    "### 特徴量加工"
   ]
  },
  {
   "cell_type": "code",
   "execution_count": 3,
   "metadata": {},
   "outputs": [
    {
     "data": {
      "text/html": [
       "<div><style>\n",
       ".dataframe > thead > tr,\n",
       ".dataframe > tbody > tr {\n",
       "  text-align: right;\n",
       "  white-space: pre-wrap;\n",
       "}\n",
       "</style>\n",
       "<small>shape: (5, 6)</small><table border=\"1\" class=\"dataframe\"><thead><tr><th>id</th><th>category1</th><th>feature1</th><th>feature2</th><th>target</th><th>feature1_mean_by_category1</th></tr><tr><td>i64</td><td>i64</td><td>f64</td><td>f64</td><td>i64</td><td>f64</td></tr></thead><tbody><tr><td>1</td><td>0</td><td>0.451895</td><td>0.654711</td><td>5</td><td>0.485833</td></tr><tr><td>2</td><td>1</td><td>0.965642</td><td>0.008199</td><td>5</td><td>0.490346</td></tr><tr><td>3</td><td>1</td><td>0.793811</td><td>0.923839</td><td>2</td><td>0.490346</td></tr><tr><td>4</td><td>2</td><td>0.464083</td><td>0.069733</td><td>8</td><td>0.490287</td></tr><tr><td>5</td><td>1</td><td>0.022945</td><td>0.90639</td><td>4</td><td>0.490346</td></tr></tbody></table></div>"
      ],
      "text/plain": [
       "shape: (5, 6)\n",
       "┌─────┬───────────┬──────────┬──────────┬────────┬────────────────────────────┐\n",
       "│ id  ┆ category1 ┆ feature1 ┆ feature2 ┆ target ┆ feature1_mean_by_category1 │\n",
       "│ --- ┆ ---       ┆ ---      ┆ ---      ┆ ---    ┆ ---                        │\n",
       "│ i64 ┆ i64       ┆ f64      ┆ f64      ┆ i64    ┆ f64                        │\n",
       "╞═════╪═══════════╪══════════╪══════════╪════════╪════════════════════════════╡\n",
       "│ 1   ┆ 0         ┆ 0.451895 ┆ 0.654711 ┆ 5      ┆ 0.485833                   │\n",
       "│ 2   ┆ 1         ┆ 0.965642 ┆ 0.008199 ┆ 5      ┆ 0.490346                   │\n",
       "│ 3   ┆ 1         ┆ 0.793811 ┆ 0.923839 ┆ 2      ┆ 0.490346                   │\n",
       "│ 4   ┆ 2         ┆ 0.464083 ┆ 0.069733 ┆ 8      ┆ 0.490287                   │\n",
       "│ 5   ┆ 1         ┆ 0.022945 ┆ 0.90639  ┆ 4      ┆ 0.490346                   │\n",
       "└─────┴───────────┴──────────┴──────────┴────────┴────────────────────────────┘"
      ]
     },
     "execution_count": 3,
     "metadata": {},
     "output_type": "execute_result"
    }
   ],
   "source": [
    "# ラベルエンコーディング\n",
    "le = LabelEncoder()\n",
    "train_test_df = train_test_df.with_columns(\n",
    "    pl.Series(le.fit_transform(train_test_df[\"category1\"].fill_null(\"\"))).alias(\"category1\")\n",
    ")\n",
    "\n",
    "# 集約特徴量\n",
    "train_test_df = train_test_df.with_columns(\n",
    "    pl.col(\"feature1\").mean().over(\"category1\").alias(\"feature1_mean_by_category1\")\n",
    ")\n",
    "train_test_df.head()\n"
   ]
  },
  {
   "cell_type": "code",
   "execution_count": 4,
   "metadata": {},
   "outputs": [],
   "source": [
    "# train_test_dfをtrainとtestに分割\n",
    "train_df = train_test_df.filter(pl.col(cfg.target).is_not_null())\n",
    "test_df = train_test_df.filter(pl.col(cfg.target).is_null()).drop(cfg.target)\n"
   ]
  },
  {
   "cell_type": "markdown",
   "metadata": {},
   "source": [
    "### 学習"
   ]
  },
  {
   "cell_type": "code",
   "execution_count": 5,
   "metadata": {},
   "outputs": [
    {
     "name": "stdout",
     "output_type": "stream",
     "text": [
      "Directory created: ../../results/001/20240923_123453\n",
      "Training until validation scores don't improve for 100 rounds\n",
      "[100]\tcv_agg's valid rmse: 2.83606 + 0.0272595\n",
      "Early stopping, best iteration is:\n",
      "[18]\tcv_agg's valid rmse: 2.80286 + 0.0148947\n"
     ]
    }
   ],
   "source": [
    "x_train = train_df.drop([cfg.target]).to_pandas()\n",
    "y_train = train_df[cfg.target].to_pandas()\n",
    "\n",
    "# 実験結果格納用のディレクトリを作成\n",
    "japan_tz = pytz.timezone(\"Asia/Tokyo\")\n",
    "cfg.run_time = datetime.now(japan_tz).strftime(\"%Y%m%d_%H%M%S\")\n",
    "create_dir(cfg.data.results_path)\n",
    "\n",
    "# 学習設定\n",
    "lgb_data = lgb.Dataset(\n",
    "    x_train,\n",
    "    label=y_train,\n",
    "    # categorical_feature=cfg.categorical_features,\n",
    ")\n",
    "callbacks = [\n",
    "    lgb.early_stopping(stopping_rounds=cfg.lgb.early_stopping_rounds),\n",
    "    lgb.log_evaluation(cfg.lgb.log_evaluation_period),\n",
    "]\n",
    "\n",
    "# 学習\n",
    "cv_results = lgb.cv(\n",
    "    dict(cfg.lgb.params),\n",
    "    lgb_data,\n",
    "    folds=skf.split(x_train, y_train),\n",
    "    num_boost_round=cfg.lgb.num_boost_round,\n",
    "    callbacks=callbacks,\n",
    "    return_cvbooster=True,\n",
    "    seed=cfg.seed,\n",
    ")\n",
    "\n",
    "# 学習モデル保存\n",
    "cvbooster = cv_results[\"cvbooster\"]\n",
    "with open(f\"{cfg.data.results_path}/model.pkl\", \"wb\") as f:\n",
    "    pickle.dump(cvbooster, f)\n",
    "\n",
    "# # モデルのロード\n",
    "# with open(f\"{cfg.data.results_path}/model.pkl\", \"rb\") as f:\n",
    "#     loaded_cvbooster = pickle.load(f)\n"
   ]
  },
  {
   "cell_type": "markdown",
   "metadata": {},
   "source": [
    "### log\n"
   ]
  },
  {
   "cell_type": "code",
   "execution_count": 6,
   "metadata": {},
   "outputs": [],
   "source": [
    "best_iteration = cvbooster.best_iteration\n",
    "best_score = cv_results[\"valid rmse-mean\"][best_iteration - 1]\n",
    "best_score_stdv = cv_results[\"valid rmse-stdv\"][best_iteration - 1]\n",
    "\n",
    "with open(f\"{cfg.data.results_path}/log.txt\", \"w\") as log_file:\n",
    "    log_file.write(\"====== CV Score ======\\n\")\n",
    "    log_file.write(f\"best_iteration: {best_iteration}\\n\")\n",
    "    log_file.write(f\"best_score: {best_score}\\n\")\n",
    "    log_file.write(f\"best_score_stdv: {best_score_stdv}\\n\")\n",
    "\n",
    "    log_file.write(\"\\n====== params ======\\n\")\n",
    "    log_file.write(OmegaConf.to_yaml(cfg, resolve=True))\n",
    "\n",
    "    log_file.write(\"\\n====== feature name ======\\n\")\n",
    "    log_file.write(pprint.pformat(cvbooster.feature_name()[0]))\n"
   ]
  },
  {
   "cell_type": "markdown",
   "metadata": {},
   "source": [
    "### Feature Importance"
   ]
  },
  {
   "cell_type": "code",
   "execution_count": 7,
   "metadata": {},
   "outputs": [
    {
     "data": {
      "image/png": "[encoded data removed]",
      "text/plain": [
       "<Figure size 1200x300 with 1 Axes>"
      ]
     },
     "metadata": {},
     "output_type": "display_data"
    }
   ],
   "source": [
    "# 学習済みモデルから特徴量の重要度を取り出す\n",
    "raw_importances = cvbooster.feature_importance(importance_type=\"gain\")\n",
    "importance_df = pd.DataFrame(data=raw_importances, columns=cvbooster.feature_name()[0])\n",
    "\n",
    "# 平均値でソートする\n",
    "sorted_indices = importance_df.mean(axis=0).sort_values(ascending=False).index\n",
    "sorted_importance_df = importance_df.loc[:, sorted_indices]\n",
    "\n",
    "# 上位をプロット -> 保存\n",
    "plot_cols = sorted_importance_df.columns[:50]\n",
    "fig, ax = plt.subplots(figsize=(12, max(3, len(plot_cols) * 0.15)))\n",
    "sns.boxplot(data=sorted_importance_df[plot_cols], orient=\"h\", ax=ax)\n",
    "ax.grid()\n",
    "ax.set_title(\"feature importance\")\n",
    "fig.tight_layout()\n",
    "plt.show()\n",
    "fig.savefig(f\"{cfg.data.results_path}/feature_importance.png\")\n"
   ]
  },
  {
   "cell_type": "markdown",
   "metadata": {},
   "source": [
    "### oof"
   ]
  },
  {
   "cell_type": "code",
   "execution_count": 8,
   "metadata": {},
   "outputs": [
    {
     "data": {
      "image/png": "[encoded data removed]",
      "text/plain": [
       "<Figure size 1200x600 with 1 Axes>"
      ]
     },
     "metadata": {},
     "output_type": "display_data"
    }
   ],
   "source": [
    "oof = np.zeros(len(train_df))\n",
    "\n",
    "# 各foldで推論してoofを作成\n",
    "for i, (_, val_idx) in enumerate(skf.split(x_train, y_train)):\n",
    "    x_val = x_train.iloc[val_idx]\n",
    "    model = cvbooster.boosters[i]\n",
    "    oof[val_idx] = model.predict(x_val, num_iteration=cvbooster.best_iteration)\n",
    "\n",
    "# oofを保存\n",
    "np.save(f\"{cfg.data.results_path}/oof.npy\", oof)\n",
    "\n",
    "fig, ax = plt.subplots(figsize=(12, 6))\n",
    "sns.histplot(y_train, bins=50, ax=ax)\n",
    "sns.histplot(oof, bins=50, ax=ax)\n",
    "plt.legend([\"true\", \"oof\"])\n",
    "plt.show()\n",
    "fig.savefig(f\"{cfg.data.results_path}/oof_hist.png\")\n"
   ]
  },
  {
   "cell_type": "markdown",
   "metadata": {},
   "source": [
    "### Submission"
   ]
  },
  {
   "cell_type": "code",
   "execution_count": 9,
   "metadata": {},
   "outputs": [
    {
     "data": {
      "text/html": [
       "<div><style>\n",
       ".dataframe > thead > tr,\n",
       ".dataframe > tbody > tr {\n",
       "  text-align: right;\n",
       "  white-space: pre-wrap;\n",
       "}\n",
       "</style>\n",
       "<small>shape: (5, 2)</small><table border=\"1\" class=\"dataframe\"><thead><tr><th>id</th><th>target</th></tr><tr><td>i64</td><td>f64</td></tr></thead><tbody><tr><td>1</td><td>4.592221</td></tr><tr><td>2</td><td>4.631716</td></tr><tr><td>3</td><td>4.692771</td></tr><tr><td>4</td><td>4.486453</td></tr><tr><td>5</td><td>4.676029</td></tr></tbody></table></div>"
      ],
      "text/plain": [
       "shape: (5, 2)\n",
       "┌─────┬──────────┐\n",
       "│ id  ┆ target   │\n",
       "│ --- ┆ ---      │\n",
       "│ i64 ┆ f64      │\n",
       "╞═════╪══════════╡\n",
       "│ 1   ┆ 4.592221 │\n",
       "│ 2   ┆ 4.631716 │\n",
       "│ 3   ┆ 4.692771 │\n",
       "│ 4   ┆ 4.486453 │\n",
       "│ 5   ┆ 4.676029 │\n",
       "└─────┴──────────┘"
      ]
     },
     "execution_count": 9,
     "metadata": {},
     "output_type": "execute_result"
    }
   ],
   "source": [
    "# 推論\n",
    "x_test = test_df.to_pandas()\n",
    "y_preds = cvbooster.predict(x_test, num_iteration=cvbooster.best_iteration)\n",
    "y_pred = np.mean(y_preds, axis=0)\n",
    "\n",
    "# 提出ファイル作成\n",
    "sub_df = pl.read_csv(cfg.data.sample_submission_path)\n",
    "sub_df = sub_df.with_columns(pl.Series(y_pred).alias(cfg.target))\n",
    "sub_df.write_csv(f\"{cfg.data.results_path}/submission.csv\")\n",
    "sub_df.head()\n"
   ]
  }
 ],
 "metadata": {
  "kernelspec": {
   "display_name": ".venv",
   "language": "python",
   "name": "python3"
  },
  "language_info": {
   "codemirror_mode": {
    "name": "ipython",
    "version": 3
   },
   "file_extension": ".py",
   "mimetype": "text/x-python",
   "name": "python",
   "nbconvert_exporter": "python",
   "pygments_lexer": "ipython3",
   "version": "3.12.3"
  }
 },
 "nbformat": 4,
 "nbformat_minor": 2
}
